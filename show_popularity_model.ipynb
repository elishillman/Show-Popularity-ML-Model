{
  "cells": [
    {
      "cell_type": "code",
      "execution_count": 2,
      "metadata": {
        "colab": {
          "base_uri": "https://localhost:8080/"
        },
        "id": "kJPwKH-T0bWs",
        "outputId": "34aecdfc-a247-4ef2-b323-85d489bedc85"
      },
      "outputs": [],
      "source": [
        "import pandas as pd\n",
        "import numpy as np\n",
        "import seaborn as sns\n",
        "import matplotlib.pyplot as plt\n",
        "import re\n",
        "from imdb import Cinemagoer"
      ]
    },
    {
      "cell_type": "code",
      "execution_count": 3,
      "metadata": {},
      "outputs": [],
      "source": [
        "sns.set_style('darkgrid') \n",
        "plt.rc('axes', titlesize=18)    \n",
        "plt.rc('axes', labelsize=13)    \n",
        "plt.rc('xtick', labelsize=14)    \n",
        "plt.rc('ytick', labelsize=14)  \n",
        "plt.rc('legend', fontsize=13) \n",
        "plt.rc('font', size=13)"
      ]
    },
    {
      "attachments": {},
      "cell_type": "markdown",
      "metadata": {
        "id": "xfJ-_85PfLQX"
      },
      "source": [
        "# Show Data\n",
        "Data was collected using [Cinemagoer](https://cinemagoer.github.io/) via imdbscrape.py and imported here.\n",
        "\n",
        "**_Note:_** Data is from February 2023"
      ]
    },
    {
      "cell_type": "code",
      "execution_count": 4,
      "metadata": {},
      "outputs": [
        {
          "data": {
            "text/html": [
              "<div>\n",
              "<style scoped>\n",
              "    .dataframe tbody tr th:only-of-type {\n",
              "        vertical-align: middle;\n",
              "    }\n",
              "\n",
              "    .dataframe tbody tr th {\n",
              "        vertical-align: top;\n",
              "    }\n",
              "\n",
              "    .dataframe thead th {\n",
              "        text-align: right;\n",
              "    }\n",
              "</style>\n",
              "<table border=\"1\" class=\"dataframe\">\n",
              "  <thead>\n",
              "    <tr style=\"text-align: right;\">\n",
              "      <th></th>\n",
              "      <th>name</th>\n",
              "      <th>ids</th>\n",
              "      <th>imdb_rank</th>\n",
              "      <th>years</th>\n",
              "      <th>genre</th>\n",
              "      <th>imdb_rating</th>\n",
              "      <th>imdb_votes</th>\n",
              "    </tr>\n",
              "  </thead>\n",
              "  <tbody>\n",
              "    <tr>\n",
              "      <th>0</th>\n",
              "      <td>The Last of Us</td>\n",
              "      <td>3581920</td>\n",
              "      <td>1</td>\n",
              "      <td>2023-</td>\n",
              "      <td>['Action', 'Adventure', 'Drama', 'Horror', 'Sc...</td>\n",
              "      <td>9.2</td>\n",
              "      <td>220703.0</td>\n",
              "    </tr>\n",
              "    <tr>\n",
              "      <th>1</th>\n",
              "      <td>You</td>\n",
              "      <td>7335184</td>\n",
              "      <td>2</td>\n",
              "      <td>2018-</td>\n",
              "      <td>['Crime', 'Drama', 'Romance', 'Thriller']</td>\n",
              "      <td>7.7</td>\n",
              "      <td>257575.0</td>\n",
              "    </tr>\n",
              "    <tr>\n",
              "      <th>2</th>\n",
              "      <td>Poker Face</td>\n",
              "      <td>14269590</td>\n",
              "      <td>3</td>\n",
              "      <td>2023-</td>\n",
              "      <td>['Crime', 'Drama', 'Mystery']</td>\n",
              "      <td>8.1</td>\n",
              "      <td>13047.0</td>\n",
              "    </tr>\n",
              "    <tr>\n",
              "      <th>3</th>\n",
              "      <td>1923</td>\n",
              "      <td>18335752</td>\n",
              "      <td>4</td>\n",
              "      <td>2022-2023</td>\n",
              "      <td>['Drama', 'Western']</td>\n",
              "      <td>8.6</td>\n",
              "      <td>17809.0</td>\n",
              "    </tr>\n",
              "    <tr>\n",
              "      <th>4</th>\n",
              "      <td>Yellowstone</td>\n",
              "      <td>4236770</td>\n",
              "      <td>5</td>\n",
              "      <td>2018-2023</td>\n",
              "      <td>['Drama', 'Western']</td>\n",
              "      <td>8.7</td>\n",
              "      <td>162886.0</td>\n",
              "    </tr>\n",
              "    <tr>\n",
              "      <th>...</th>\n",
              "      <td>...</td>\n",
              "      <td>...</td>\n",
              "      <td>...</td>\n",
              "      <td>...</td>\n",
              "      <td>...</td>\n",
              "      <td>...</td>\n",
              "      <td>...</td>\n",
              "    </tr>\n",
              "    <tr>\n",
              "      <th>145</th>\n",
              "      <td>The Recruit</td>\n",
              "      <td>16030542</td>\n",
              "      <td>146</td>\n",
              "      <td>2022-</td>\n",
              "      <td>['Action', 'Adventure', 'Crime', 'Drama', 'Thr...</td>\n",
              "      <td>7.4</td>\n",
              "      <td>30563.0</td>\n",
              "    </tr>\n",
              "    <tr>\n",
              "      <th>146</th>\n",
              "      <td>Magnum P.I.</td>\n",
              "      <td>7942796</td>\n",
              "      <td>147</td>\n",
              "      <td>2018-2023</td>\n",
              "      <td>['Action', 'Adventure', 'Crime']</td>\n",
              "      <td>6.1</td>\n",
              "      <td>14402.0</td>\n",
              "    </tr>\n",
              "    <tr>\n",
              "      <th>147</th>\n",
              "      <td>Fear the Walking Dead</td>\n",
              "      <td>3743822</td>\n",
              "      <td>148</td>\n",
              "      <td>2015-2023</td>\n",
              "      <td>['Drama', 'Horror', 'Sci-Fi', 'Thriller']</td>\n",
              "      <td>6.8</td>\n",
              "      <td>132664.0</td>\n",
              "    </tr>\n",
              "    <tr>\n",
              "      <th>148</th>\n",
              "      <td>Funny Woman</td>\n",
              "      <td>15309272</td>\n",
              "      <td>149</td>\n",
              "      <td>2023-</td>\n",
              "      <td>['Comedy']</td>\n",
              "      <td>7.3</td>\n",
              "      <td>589.0</td>\n",
              "    </tr>\n",
              "    <tr>\n",
              "      <th>149</th>\n",
              "      <td>Chicago P.D.</td>\n",
              "      <td>2805096</td>\n",
              "      <td>150</td>\n",
              "      <td>2014-</td>\n",
              "      <td>['Action', 'Crime', 'Drama', 'Thriller']</td>\n",
              "      <td>8.1</td>\n",
              "      <td>39920.0</td>\n",
              "    </tr>\n",
              "  </tbody>\n",
              "</table>\n",
              "<p>150 rows × 7 columns</p>\n",
              "</div>"
            ],
            "text/plain": [
              "                      name       ids  imdb_rank      years  \\\n",
              "0           The Last of Us   3581920          1      2023-   \n",
              "1                      You   7335184          2      2018-   \n",
              "2               Poker Face  14269590          3      2023-   \n",
              "3                     1923  18335752          4  2022-2023   \n",
              "4              Yellowstone   4236770          5  2018-2023   \n",
              "..                     ...       ...        ...        ...   \n",
              "145            The Recruit  16030542        146      2022-   \n",
              "146            Magnum P.I.   7942796        147  2018-2023   \n",
              "147  Fear the Walking Dead   3743822        148  2015-2023   \n",
              "148            Funny Woman  15309272        149      2023-   \n",
              "149           Chicago P.D.   2805096        150      2014-   \n",
              "\n",
              "                                                 genre  imdb_rating  \\\n",
              "0    ['Action', 'Adventure', 'Drama', 'Horror', 'Sc...          9.2   \n",
              "1            ['Crime', 'Drama', 'Romance', 'Thriller']          7.7   \n",
              "2                        ['Crime', 'Drama', 'Mystery']          8.1   \n",
              "3                                 ['Drama', 'Western']          8.6   \n",
              "4                                 ['Drama', 'Western']          8.7   \n",
              "..                                                 ...          ...   \n",
              "145  ['Action', 'Adventure', 'Crime', 'Drama', 'Thr...          7.4   \n",
              "146                   ['Action', 'Adventure', 'Crime']          6.1   \n",
              "147          ['Drama', 'Horror', 'Sci-Fi', 'Thriller']          6.8   \n",
              "148                                         ['Comedy']          7.3   \n",
              "149           ['Action', 'Crime', 'Drama', 'Thriller']          8.1   \n",
              "\n",
              "     imdb_votes  \n",
              "0      220703.0  \n",
              "1      257575.0  \n",
              "2       13047.0  \n",
              "3       17809.0  \n",
              "4      162886.0  \n",
              "..          ...  \n",
              "145     30563.0  \n",
              "146     14402.0  \n",
              "147    132664.0  \n",
              "148       589.0  \n",
              "149     39920.0  \n",
              "\n",
              "[150 rows x 7 columns]"
            ]
          },
          "execution_count": 4,
          "metadata": {},
          "output_type": "execute_result"
        }
      ],
      "source": [
        "shows = pd.read_csv('raw/shows.csv')\n",
        "shows"
      ]
    },
    {
      "attachments": {},
      "cell_type": "markdown",
      "metadata": {
        "id": "hCO9j0cPevsc"
      },
      "source": [
        "# MetaCritic Information"
      ]
    },
    {
      "cell_type": "code",
      "execution_count": 5,
      "metadata": {
        "id": "hJ7b4VHA_s1Q"
      },
      "outputs": [],
      "source": [
        "meta = pd.read_csv('raw/metacritic.csv')\n",
        "meta.columns = ['name', 'metacritic', 'meta_user']\n",
        "meta = meta.drop(0)"
      ]
    },
    {
      "cell_type": "code",
      "execution_count": 6,
      "metadata": {
        "id": "PTLQkaGHAHkG"
      },
      "outputs": [],
      "source": [
        "ratingsdict = {'sample': [99, 8.3, 3]}\n",
        "for index, row in meta.iterrows():\n",
        "  split = row['name'].split(':')\n",
        "  if split[0] in ratingsdict.keys():\n",
        "    if (row['metacritic'] == 'tbd' or row['meta_user'] == 'tbd') == False:\n",
        "      ratingsdict[split[0]][2] = ratingsdict[split[0]][2] + 1\n",
        "      ratingsdict[split[0]][0] = round(((ratingsdict[split[0]][0] * (ratingsdict[split[0]][2] - 1)) + float(row['metacritic'])) / ratingsdict[split[0]][2], 2)\n",
        "      ratingsdict[split[0]][1] = round(((ratingsdict[split[0]][1] * (ratingsdict[split[0]][2] - 1)) + float(row['meta_user'])) / ratingsdict[split[0]][2], 2)\n",
        "  else:\n",
        "    if row['metacritic'] == 'tbd' or row['meta_user'] == 'tbd':\n",
        "      ratingsdict[split[0]] = [0, 0, 0]\n",
        "    else:\n",
        "      ratingsdict[split[0]] = [float(row['metacritic']), float(row['meta_user']), 1]"
      ]
    },
    {
      "cell_type": "code",
      "execution_count": 7,
      "metadata": {
        "id": "1wqx8yOrEP6p"
      },
      "outputs": [],
      "source": [
        "name_list = []\n",
        "metacritic_list = []\n",
        "meta_user_list = []\n",
        "for name in shows['name']:\n",
        "  name_list.append(name)\n",
        "\n",
        "for i in range(len(name_list)):\n",
        "  if name_list[i] in ratingsdict.keys():\n",
        "    if ratingsdict[name_list[i]][0] == 0.0:\n",
        "      metacritic_list.append(np.NaN)\n",
        "      meta_user_list.append(np.NaN)\n",
        "    else:\n",
        "      metacritic_list.append(ratingsdict[name_list[i]][0])\n",
        "      meta_user_list.append(ratingsdict[name_list[i]][1])\n",
        "  else:\n",
        "    metacritic_list.append(np.NaN)\n",
        "    meta_user_list.append(np.NaN)"
      ]
    },
    {
      "cell_type": "code",
      "execution_count": 8,
      "metadata": {
        "id": "tnHYqvq7FwJl"
      },
      "outputs": [],
      "source": [
        "metacritic_array = np.array(metacritic_list)\n",
        "shows['metacritic'] = metacritic_array.tolist()"
      ]
    },
    {
      "cell_type": "code",
      "execution_count": 9,
      "metadata": {
        "id": "Z0BGAQvTGnga"
      },
      "outputs": [],
      "source": [
        "meta_user_array = np.array(meta_user_list)\n",
        "shows['meta_user_rating'] = meta_user_array.tolist()"
      ]
    },
    {
      "cell_type": "code",
      "execution_count": 10,
      "metadata": {
        "id": "RVgDI87xHpIJ"
      },
      "outputs": [],
      "source": [
        "for index, row in shows.iterrows():\n",
        "  if row['meta_user_rating'] < 0.1:\n",
        "    shows.at[row['meta_user_rating']] = np.NaN\n",
        "  if row['metacritic'] < 0.1:\n",
        "    shows.at[row['metacritic']] = np.NaN"
      ]
    },
    {
      "cell_type": "code",
      "execution_count": 11,
      "metadata": {
        "colab": {
          "base_uri": "https://localhost:8080/",
          "height": 922
        },
        "id": "KWEVrG4S-fG2",
        "outputId": "b38f7f3b-c066-4622-82c2-f218fe8d97d1"
      },
      "outputs": [
        {
          "data": {
            "text/html": [
              "<div>\n",
              "<style scoped>\n",
              "    .dataframe tbody tr th:only-of-type {\n",
              "        vertical-align: middle;\n",
              "    }\n",
              "\n",
              "    .dataframe tbody tr th {\n",
              "        vertical-align: top;\n",
              "    }\n",
              "\n",
              "    .dataframe thead th {\n",
              "        text-align: right;\n",
              "    }\n",
              "</style>\n",
              "<table border=\"1\" class=\"dataframe\">\n",
              "  <thead>\n",
              "    <tr style=\"text-align: right;\">\n",
              "      <th></th>\n",
              "      <th>name</th>\n",
              "      <th>ids</th>\n",
              "      <th>imdb_rank</th>\n",
              "      <th>years</th>\n",
              "      <th>genre</th>\n",
              "      <th>imdb_rating</th>\n",
              "      <th>imdb_votes</th>\n",
              "      <th>metacritic</th>\n",
              "      <th>meta_user_rating</th>\n",
              "    </tr>\n",
              "  </thead>\n",
              "  <tbody>\n",
              "    <tr>\n",
              "      <th>0</th>\n",
              "      <td>The Last of Us</td>\n",
              "      <td>3581920</td>\n",
              "      <td>1</td>\n",
              "      <td>2023-</td>\n",
              "      <td>['Action', 'Adventure', 'Drama', 'Horror', 'Sc...</td>\n",
              "      <td>9.2</td>\n",
              "      <td>220703.0</td>\n",
              "      <td>84.0</td>\n",
              "      <td>7.7</td>\n",
              "    </tr>\n",
              "    <tr>\n",
              "      <th>1</th>\n",
              "      <td>You</td>\n",
              "      <td>7335184</td>\n",
              "      <td>2</td>\n",
              "      <td>2018-</td>\n",
              "      <td>['Crime', 'Drama', 'Romance', 'Thriller']</td>\n",
              "      <td>7.7</td>\n",
              "      <td>257575.0</td>\n",
              "      <td>NaN</td>\n",
              "      <td>NaN</td>\n",
              "    </tr>\n",
              "    <tr>\n",
              "      <th>2</th>\n",
              "      <td>Poker Face</td>\n",
              "      <td>14269590</td>\n",
              "      <td>3</td>\n",
              "      <td>2023-</td>\n",
              "      <td>['Crime', 'Drama', 'Mystery']</td>\n",
              "      <td>8.1</td>\n",
              "      <td>13047.0</td>\n",
              "      <td>NaN</td>\n",
              "      <td>NaN</td>\n",
              "    </tr>\n",
              "    <tr>\n",
              "      <th>3</th>\n",
              "      <td>1923</td>\n",
              "      <td>18335752</td>\n",
              "      <td>4</td>\n",
              "      <td>2022-2023</td>\n",
              "      <td>['Drama', 'Western']</td>\n",
              "      <td>8.6</td>\n",
              "      <td>17809.0</td>\n",
              "      <td>67.0</td>\n",
              "      <td>5.8</td>\n",
              "    </tr>\n",
              "    <tr>\n",
              "      <th>4</th>\n",
              "      <td>Yellowstone</td>\n",
              "      <td>4236770</td>\n",
              "      <td>5</td>\n",
              "      <td>2018-2023</td>\n",
              "      <td>['Drama', 'Western']</td>\n",
              "      <td>8.7</td>\n",
              "      <td>162886.0</td>\n",
              "      <td>NaN</td>\n",
              "      <td>NaN</td>\n",
              "    </tr>\n",
              "    <tr>\n",
              "      <th>...</th>\n",
              "      <td>...</td>\n",
              "      <td>...</td>\n",
              "      <td>...</td>\n",
              "      <td>...</td>\n",
              "      <td>...</td>\n",
              "      <td>...</td>\n",
              "      <td>...</td>\n",
              "      <td>...</td>\n",
              "      <td>...</td>\n",
              "    </tr>\n",
              "    <tr>\n",
              "      <th>145</th>\n",
              "      <td>The Recruit</td>\n",
              "      <td>16030542</td>\n",
              "      <td>146</td>\n",
              "      <td>2022-</td>\n",
              "      <td>['Action', 'Adventure', 'Crime', 'Drama', 'Thr...</td>\n",
              "      <td>7.4</td>\n",
              "      <td>30563.0</td>\n",
              "      <td>NaN</td>\n",
              "      <td>NaN</td>\n",
              "    </tr>\n",
              "    <tr>\n",
              "      <th>146</th>\n",
              "      <td>Magnum P.I.</td>\n",
              "      <td>7942796</td>\n",
              "      <td>147</td>\n",
              "      <td>2018-2023</td>\n",
              "      <td>['Action', 'Adventure', 'Crime']</td>\n",
              "      <td>6.1</td>\n",
              "      <td>14402.0</td>\n",
              "      <td>NaN</td>\n",
              "      <td>NaN</td>\n",
              "    </tr>\n",
              "    <tr>\n",
              "      <th>147</th>\n",
              "      <td>Fear the Walking Dead</td>\n",
              "      <td>3743822</td>\n",
              "      <td>148</td>\n",
              "      <td>2015-2023</td>\n",
              "      <td>['Drama', 'Horror', 'Sci-Fi', 'Thriller']</td>\n",
              "      <td>6.8</td>\n",
              "      <td>132664.0</td>\n",
              "      <td>60.0</td>\n",
              "      <td>5.5</td>\n",
              "    </tr>\n",
              "    <tr>\n",
              "      <th>148</th>\n",
              "      <td>Funny Woman</td>\n",
              "      <td>15309272</td>\n",
              "      <td>149</td>\n",
              "      <td>2023-</td>\n",
              "      <td>['Comedy']</td>\n",
              "      <td>7.3</td>\n",
              "      <td>589.0</td>\n",
              "      <td>NaN</td>\n",
              "      <td>NaN</td>\n",
              "    </tr>\n",
              "    <tr>\n",
              "      <th>149</th>\n",
              "      <td>Chicago P.D.</td>\n",
              "      <td>2805096</td>\n",
              "      <td>150</td>\n",
              "      <td>2014-</td>\n",
              "      <td>['Action', 'Crime', 'Drama', 'Thriller']</td>\n",
              "      <td>8.1</td>\n",
              "      <td>39920.0</td>\n",
              "      <td>50.0</td>\n",
              "      <td>7.7</td>\n",
              "    </tr>\n",
              "  </tbody>\n",
              "</table>\n",
              "<p>150 rows × 9 columns</p>\n",
              "</div>"
            ],
            "text/plain": [
              "                      name       ids  imdb_rank      years  \\\n",
              "0           The Last of Us   3581920          1      2023-   \n",
              "1                      You   7335184          2      2018-   \n",
              "2               Poker Face  14269590          3      2023-   \n",
              "3                     1923  18335752          4  2022-2023   \n",
              "4              Yellowstone   4236770          5  2018-2023   \n",
              "..                     ...       ...        ...        ...   \n",
              "145            The Recruit  16030542        146      2022-   \n",
              "146            Magnum P.I.   7942796        147  2018-2023   \n",
              "147  Fear the Walking Dead   3743822        148  2015-2023   \n",
              "148            Funny Woman  15309272        149      2023-   \n",
              "149           Chicago P.D.   2805096        150      2014-   \n",
              "\n",
              "                                                 genre  imdb_rating  \\\n",
              "0    ['Action', 'Adventure', 'Drama', 'Horror', 'Sc...          9.2   \n",
              "1            ['Crime', 'Drama', 'Romance', 'Thriller']          7.7   \n",
              "2                        ['Crime', 'Drama', 'Mystery']          8.1   \n",
              "3                                 ['Drama', 'Western']          8.6   \n",
              "4                                 ['Drama', 'Western']          8.7   \n",
              "..                                                 ...          ...   \n",
              "145  ['Action', 'Adventure', 'Crime', 'Drama', 'Thr...          7.4   \n",
              "146                   ['Action', 'Adventure', 'Crime']          6.1   \n",
              "147          ['Drama', 'Horror', 'Sci-Fi', 'Thriller']          6.8   \n",
              "148                                         ['Comedy']          7.3   \n",
              "149           ['Action', 'Crime', 'Drama', 'Thriller']          8.1   \n",
              "\n",
              "     imdb_votes  metacritic  meta_user_rating  \n",
              "0      220703.0        84.0               7.7  \n",
              "1      257575.0         NaN               NaN  \n",
              "2       13047.0         NaN               NaN  \n",
              "3       17809.0        67.0               5.8  \n",
              "4      162886.0         NaN               NaN  \n",
              "..          ...         ...               ...  \n",
              "145     30563.0         NaN               NaN  \n",
              "146     14402.0         NaN               NaN  \n",
              "147    132664.0        60.0               5.5  \n",
              "148       589.0         NaN               NaN  \n",
              "149     39920.0        50.0               7.7  \n",
              "\n",
              "[150 rows x 9 columns]"
            ]
          },
          "execution_count": 11,
          "metadata": {},
          "output_type": "execute_result"
        }
      ],
      "source": [
        "shows"
      ]
    },
    {
      "attachments": {},
      "cell_type": "markdown",
      "metadata": {
        "id": "WIGvMzFjutbt"
      },
      "source": [
        "# Content Methodology Data\n",
        "(Primary SVOD)"
      ]
    },
    {
      "cell_type": "code",
      "execution_count": 12,
      "metadata": {
        "id": "bXYIKK8f1Wb2"
      },
      "outputs": [],
      "source": [
        "method = pd.read_csv('raw/svod.csv')\n",
        "method.columns = ['name', 'service']"
      ]
    },
    {
      "cell_type": "code",
      "execution_count": 13,
      "metadata": {
        "colab": {
          "base_uri": "https://localhost:8080/",
          "height": 424
        },
        "id": "koWOzwE62bx0",
        "outputId": "1be5a1f5-f9e4-46ec-a3a4-fb67cd2eca9c"
      },
      "outputs": [
        {
          "data": {
            "text/html": [
              "<div>\n",
              "<style scoped>\n",
              "    .dataframe tbody tr th:only-of-type {\n",
              "        vertical-align: middle;\n",
              "    }\n",
              "\n",
              "    .dataframe tbody tr th {\n",
              "        vertical-align: top;\n",
              "    }\n",
              "\n",
              "    .dataframe thead th {\n",
              "        text-align: right;\n",
              "    }\n",
              "</style>\n",
              "<table border=\"1\" class=\"dataframe\">\n",
              "  <thead>\n",
              "    <tr style=\"text-align: right;\">\n",
              "      <th></th>\n",
              "      <th>name</th>\n",
              "      <th>service</th>\n",
              "    </tr>\n",
              "  </thead>\n",
              "  <tbody>\n",
              "    <tr>\n",
              "      <th>0</th>\n",
              "      <td>The Last of Us</td>\n",
              "      <td>HBO Max</td>\n",
              "    </tr>\n",
              "    <tr>\n",
              "      <th>1</th>\n",
              "      <td>You</td>\n",
              "      <td>Netflix</td>\n",
              "    </tr>\n",
              "    <tr>\n",
              "      <th>2</th>\n",
              "      <td>Poker Face</td>\n",
              "      <td>Peacock</td>\n",
              "    </tr>\n",
              "    <tr>\n",
              "      <th>3</th>\n",
              "      <td>1923</td>\n",
              "      <td>Paramount +</td>\n",
              "    </tr>\n",
              "    <tr>\n",
              "      <th>4</th>\n",
              "      <td>Yellowstone</td>\n",
              "      <td>Peacock</td>\n",
              "    </tr>\n",
              "    <tr>\n",
              "      <th>...</th>\n",
              "      <td>...</td>\n",
              "      <td>...</td>\n",
              "    </tr>\n",
              "    <tr>\n",
              "      <th>145</th>\n",
              "      <td>The Recruit</td>\n",
              "      <td>Netflix</td>\n",
              "    </tr>\n",
              "    <tr>\n",
              "      <th>146</th>\n",
              "      <td>Magnum P.I.</td>\n",
              "      <td>Peacock</td>\n",
              "    </tr>\n",
              "    <tr>\n",
              "      <th>147</th>\n",
              "      <td>Fear the Walking Dead</td>\n",
              "      <td>Hulu</td>\n",
              "    </tr>\n",
              "    <tr>\n",
              "      <th>148</th>\n",
              "      <td>Funny Woman</td>\n",
              "      <td>Showtime</td>\n",
              "    </tr>\n",
              "    <tr>\n",
              "      <th>149</th>\n",
              "      <td>Chicago P.D.</td>\n",
              "      <td>Peacock</td>\n",
              "    </tr>\n",
              "  </tbody>\n",
              "</table>\n",
              "<p>150 rows × 2 columns</p>\n",
              "</div>"
            ],
            "text/plain": [
              "                      name      service\n",
              "0           The Last of Us      HBO Max\n",
              "1                      You      Netflix\n",
              "2               Poker Face      Peacock\n",
              "3                     1923  Paramount +\n",
              "4              Yellowstone      Peacock\n",
              "..                     ...          ...\n",
              "145            The Recruit      Netflix\n",
              "146            Magnum P.I.      Peacock\n",
              "147  Fear the Walking Dead         Hulu\n",
              "148            Funny Woman     Showtime\n",
              "149           Chicago P.D.      Peacock\n",
              "\n",
              "[150 rows x 2 columns]"
            ]
          },
          "execution_count": 13,
          "metadata": {},
          "output_type": "execute_result"
        }
      ],
      "source": [
        "method"
      ]
    },
    {
      "cell_type": "code",
      "execution_count": 14,
      "metadata": {
        "colab": {
          "base_uri": "https://localhost:8080/",
          "height": 922
        },
        "id": "z1Ijiq-Mu37l",
        "outputId": "6d86b5e2-1f30-4a4a-9f3a-baa728c6bbaf"
      },
      "outputs": [
        {
          "data": {
            "text/html": [
              "<div>\n",
              "<style scoped>\n",
              "    .dataframe tbody tr th:only-of-type {\n",
              "        vertical-align: middle;\n",
              "    }\n",
              "\n",
              "    .dataframe tbody tr th {\n",
              "        vertical-align: top;\n",
              "    }\n",
              "\n",
              "    .dataframe thead th {\n",
              "        text-align: right;\n",
              "    }\n",
              "</style>\n",
              "<table border=\"1\" class=\"dataframe\">\n",
              "  <thead>\n",
              "    <tr style=\"text-align: right;\">\n",
              "      <th></th>\n",
              "      <th>name</th>\n",
              "      <th>ids</th>\n",
              "      <th>imdb_rank</th>\n",
              "      <th>years</th>\n",
              "      <th>genre</th>\n",
              "      <th>imdb_rating</th>\n",
              "      <th>imdb_votes</th>\n",
              "      <th>metacritic</th>\n",
              "      <th>meta_user_rating</th>\n",
              "      <th>service</th>\n",
              "    </tr>\n",
              "  </thead>\n",
              "  <tbody>\n",
              "    <tr>\n",
              "      <th>0</th>\n",
              "      <td>The Last of Us</td>\n",
              "      <td>3581920</td>\n",
              "      <td>1</td>\n",
              "      <td>2023-</td>\n",
              "      <td>['Action', 'Adventure', 'Drama', 'Horror', 'Sc...</td>\n",
              "      <td>9.2</td>\n",
              "      <td>220703.0</td>\n",
              "      <td>84.0</td>\n",
              "      <td>7.7</td>\n",
              "      <td>HBO Max</td>\n",
              "    </tr>\n",
              "    <tr>\n",
              "      <th>1</th>\n",
              "      <td>You</td>\n",
              "      <td>7335184</td>\n",
              "      <td>2</td>\n",
              "      <td>2018-</td>\n",
              "      <td>['Crime', 'Drama', 'Romance', 'Thriller']</td>\n",
              "      <td>7.7</td>\n",
              "      <td>257575.0</td>\n",
              "      <td>NaN</td>\n",
              "      <td>NaN</td>\n",
              "      <td>Netflix</td>\n",
              "    </tr>\n",
              "    <tr>\n",
              "      <th>2</th>\n",
              "      <td>Poker Face</td>\n",
              "      <td>14269590</td>\n",
              "      <td>3</td>\n",
              "      <td>2023-</td>\n",
              "      <td>['Crime', 'Drama', 'Mystery']</td>\n",
              "      <td>8.1</td>\n",
              "      <td>13047.0</td>\n",
              "      <td>NaN</td>\n",
              "      <td>NaN</td>\n",
              "      <td>Peacock</td>\n",
              "    </tr>\n",
              "    <tr>\n",
              "      <th>3</th>\n",
              "      <td>1923</td>\n",
              "      <td>18335752</td>\n",
              "      <td>4</td>\n",
              "      <td>2022-2023</td>\n",
              "      <td>['Drama', 'Western']</td>\n",
              "      <td>8.6</td>\n",
              "      <td>17809.0</td>\n",
              "      <td>67.0</td>\n",
              "      <td>5.8</td>\n",
              "      <td>Paramount +</td>\n",
              "    </tr>\n",
              "    <tr>\n",
              "      <th>4</th>\n",
              "      <td>Yellowstone</td>\n",
              "      <td>4236770</td>\n",
              "      <td>5</td>\n",
              "      <td>2018-2023</td>\n",
              "      <td>['Drama', 'Western']</td>\n",
              "      <td>8.7</td>\n",
              "      <td>162886.0</td>\n",
              "      <td>NaN</td>\n",
              "      <td>NaN</td>\n",
              "      <td>Peacock</td>\n",
              "    </tr>\n",
              "    <tr>\n",
              "      <th>...</th>\n",
              "      <td>...</td>\n",
              "      <td>...</td>\n",
              "      <td>...</td>\n",
              "      <td>...</td>\n",
              "      <td>...</td>\n",
              "      <td>...</td>\n",
              "      <td>...</td>\n",
              "      <td>...</td>\n",
              "      <td>...</td>\n",
              "      <td>...</td>\n",
              "    </tr>\n",
              "    <tr>\n",
              "      <th>145</th>\n",
              "      <td>The Recruit</td>\n",
              "      <td>16030542</td>\n",
              "      <td>146</td>\n",
              "      <td>2022-</td>\n",
              "      <td>['Action', 'Adventure', 'Crime', 'Drama', 'Thr...</td>\n",
              "      <td>7.4</td>\n",
              "      <td>30563.0</td>\n",
              "      <td>NaN</td>\n",
              "      <td>NaN</td>\n",
              "      <td>Netflix</td>\n",
              "    </tr>\n",
              "    <tr>\n",
              "      <th>146</th>\n",
              "      <td>Magnum P.I.</td>\n",
              "      <td>7942796</td>\n",
              "      <td>147</td>\n",
              "      <td>2018-2023</td>\n",
              "      <td>['Action', 'Adventure', 'Crime']</td>\n",
              "      <td>6.1</td>\n",
              "      <td>14402.0</td>\n",
              "      <td>NaN</td>\n",
              "      <td>NaN</td>\n",
              "      <td>Peacock</td>\n",
              "    </tr>\n",
              "    <tr>\n",
              "      <th>147</th>\n",
              "      <td>Fear the Walking Dead</td>\n",
              "      <td>3743822</td>\n",
              "      <td>148</td>\n",
              "      <td>2015-2023</td>\n",
              "      <td>['Drama', 'Horror', 'Sci-Fi', 'Thriller']</td>\n",
              "      <td>6.8</td>\n",
              "      <td>132664.0</td>\n",
              "      <td>60.0</td>\n",
              "      <td>5.5</td>\n",
              "      <td>Hulu</td>\n",
              "    </tr>\n",
              "    <tr>\n",
              "      <th>148</th>\n",
              "      <td>Funny Woman</td>\n",
              "      <td>15309272</td>\n",
              "      <td>149</td>\n",
              "      <td>2023-</td>\n",
              "      <td>['Comedy']</td>\n",
              "      <td>7.3</td>\n",
              "      <td>589.0</td>\n",
              "      <td>NaN</td>\n",
              "      <td>NaN</td>\n",
              "      <td>Showtime</td>\n",
              "    </tr>\n",
              "    <tr>\n",
              "      <th>149</th>\n",
              "      <td>Chicago P.D.</td>\n",
              "      <td>2805096</td>\n",
              "      <td>150</td>\n",
              "      <td>2014-</td>\n",
              "      <td>['Action', 'Crime', 'Drama', 'Thriller']</td>\n",
              "      <td>8.1</td>\n",
              "      <td>39920.0</td>\n",
              "      <td>50.0</td>\n",
              "      <td>7.7</td>\n",
              "      <td>Peacock</td>\n",
              "    </tr>\n",
              "  </tbody>\n",
              "</table>\n",
              "<p>150 rows × 10 columns</p>\n",
              "</div>"
            ],
            "text/plain": [
              "                      name       ids  imdb_rank      years  \\\n",
              "0           The Last of Us   3581920          1      2023-   \n",
              "1                      You   7335184          2      2018-   \n",
              "2               Poker Face  14269590          3      2023-   \n",
              "3                     1923  18335752          4  2022-2023   \n",
              "4              Yellowstone   4236770          5  2018-2023   \n",
              "..                     ...       ...        ...        ...   \n",
              "145            The Recruit  16030542        146      2022-   \n",
              "146            Magnum P.I.   7942796        147  2018-2023   \n",
              "147  Fear the Walking Dead   3743822        148  2015-2023   \n",
              "148            Funny Woman  15309272        149      2023-   \n",
              "149           Chicago P.D.   2805096        150      2014-   \n",
              "\n",
              "                                                 genre  imdb_rating  \\\n",
              "0    ['Action', 'Adventure', 'Drama', 'Horror', 'Sc...          9.2   \n",
              "1            ['Crime', 'Drama', 'Romance', 'Thriller']          7.7   \n",
              "2                        ['Crime', 'Drama', 'Mystery']          8.1   \n",
              "3                                 ['Drama', 'Western']          8.6   \n",
              "4                                 ['Drama', 'Western']          8.7   \n",
              "..                                                 ...          ...   \n",
              "145  ['Action', 'Adventure', 'Crime', 'Drama', 'Thr...          7.4   \n",
              "146                   ['Action', 'Adventure', 'Crime']          6.1   \n",
              "147          ['Drama', 'Horror', 'Sci-Fi', 'Thriller']          6.8   \n",
              "148                                         ['Comedy']          7.3   \n",
              "149           ['Action', 'Crime', 'Drama', 'Thriller']          8.1   \n",
              "\n",
              "     imdb_votes  metacritic  meta_user_rating      service  \n",
              "0      220703.0        84.0               7.7      HBO Max  \n",
              "1      257575.0         NaN               NaN      Netflix  \n",
              "2       13047.0         NaN               NaN      Peacock  \n",
              "3       17809.0        67.0               5.8  Paramount +  \n",
              "4      162886.0         NaN               NaN      Peacock  \n",
              "..          ...         ...               ...          ...  \n",
              "145     30563.0         NaN               NaN      Netflix  \n",
              "146     14402.0         NaN               NaN      Peacock  \n",
              "147    132664.0        60.0               5.5         Hulu  \n",
              "148       589.0         NaN               NaN     Showtime  \n",
              "149     39920.0        50.0               7.7      Peacock  \n",
              "\n",
              "[150 rows x 10 columns]"
            ]
          },
          "execution_count": 14,
          "metadata": {},
          "output_type": "execute_result"
        }
      ],
      "source": [
        "shows = shows.merge(method, how = 'left', on = ['name'])\n",
        "shows.drop_duplicates\n",
        "shows"
      ]
    },
    {
      "attachments": {},
      "cell_type": "markdown",
      "metadata": {
        "id": "qq4uAgRiT18e"
      },
      "source": [
        "# Social Media Data\n",
        "(Reddit, Twitter)"
      ]
    },
    {
      "cell_type": "code",
      "execution_count": 15,
      "metadata": {
        "id": "NuyFFKDTT7j0"
      },
      "outputs": [],
      "source": [
        "reddit = pd.read_csv('raw/reddit.csv')\n",
        "reddit.columns = ['name', 'reddit_comments']"
      ]
    },
    {
      "cell_type": "code",
      "execution_count": 16,
      "metadata": {
        "colab": {
          "base_uri": "https://localhost:8080/",
          "height": 922
        },
        "id": "1MFLzLSfV6BA",
        "outputId": "88be5856-fe26-4c3b-f7fa-db99d2ab6966"
      },
      "outputs": [
        {
          "data": {
            "text/html": [
              "<div>\n",
              "<style scoped>\n",
              "    .dataframe tbody tr th:only-of-type {\n",
              "        vertical-align: middle;\n",
              "    }\n",
              "\n",
              "    .dataframe tbody tr th {\n",
              "        vertical-align: top;\n",
              "    }\n",
              "\n",
              "    .dataframe thead th {\n",
              "        text-align: right;\n",
              "    }\n",
              "</style>\n",
              "<table border=\"1\" class=\"dataframe\">\n",
              "  <thead>\n",
              "    <tr style=\"text-align: right;\">\n",
              "      <th></th>\n",
              "      <th>name</th>\n",
              "      <th>ids</th>\n",
              "      <th>imdb_rank</th>\n",
              "      <th>years</th>\n",
              "      <th>genre</th>\n",
              "      <th>imdb_rating</th>\n",
              "      <th>imdb_votes</th>\n",
              "      <th>metacritic</th>\n",
              "      <th>meta_user_rating</th>\n",
              "      <th>service</th>\n",
              "      <th>reddit_comments</th>\n",
              "    </tr>\n",
              "  </thead>\n",
              "  <tbody>\n",
              "    <tr>\n",
              "      <th>0</th>\n",
              "      <td>The Last of Us</td>\n",
              "      <td>3581920</td>\n",
              "      <td>1</td>\n",
              "      <td>2023-</td>\n",
              "      <td>['Action', 'Adventure', 'Drama', 'Horror', 'Sc...</td>\n",
              "      <td>9.2</td>\n",
              "      <td>220703.0</td>\n",
              "      <td>84.0</td>\n",
              "      <td>7.7</td>\n",
              "      <td>HBO Max</td>\n",
              "      <td>80894</td>\n",
              "    </tr>\n",
              "    <tr>\n",
              "      <th>1</th>\n",
              "      <td>You</td>\n",
              "      <td>7335184</td>\n",
              "      <td>2</td>\n",
              "      <td>2018-</td>\n",
              "      <td>['Crime', 'Drama', 'Romance', 'Thriller']</td>\n",
              "      <td>7.7</td>\n",
              "      <td>257575.0</td>\n",
              "      <td>NaN</td>\n",
              "      <td>NaN</td>\n",
              "      <td>Netflix</td>\n",
              "      <td>25171</td>\n",
              "    </tr>\n",
              "    <tr>\n",
              "      <th>2</th>\n",
              "      <td>Poker Face</td>\n",
              "      <td>14269590</td>\n",
              "      <td>3</td>\n",
              "      <td>2023-</td>\n",
              "      <td>['Crime', 'Drama', 'Mystery']</td>\n",
              "      <td>8.1</td>\n",
              "      <td>13047.0</td>\n",
              "      <td>NaN</td>\n",
              "      <td>NaN</td>\n",
              "      <td>Peacock</td>\n",
              "      <td>353</td>\n",
              "    </tr>\n",
              "    <tr>\n",
              "      <th>3</th>\n",
              "      <td>1923</td>\n",
              "      <td>18335752</td>\n",
              "      <td>4</td>\n",
              "      <td>2022-2023</td>\n",
              "      <td>['Drama', 'Western']</td>\n",
              "      <td>8.6</td>\n",
              "      <td>17809.0</td>\n",
              "      <td>67.0</td>\n",
              "      <td>5.8</td>\n",
              "      <td>Paramount +</td>\n",
              "      <td>6480</td>\n",
              "    </tr>\n",
              "    <tr>\n",
              "      <th>4</th>\n",
              "      <td>Yellowstone</td>\n",
              "      <td>4236770</td>\n",
              "      <td>5</td>\n",
              "      <td>2018-2023</td>\n",
              "      <td>['Drama', 'Western']</td>\n",
              "      <td>8.7</td>\n",
              "      <td>162886.0</td>\n",
              "      <td>NaN</td>\n",
              "      <td>NaN</td>\n",
              "      <td>Peacock</td>\n",
              "      <td>36407</td>\n",
              "    </tr>\n",
              "    <tr>\n",
              "      <th>...</th>\n",
              "      <td>...</td>\n",
              "      <td>...</td>\n",
              "      <td>...</td>\n",
              "      <td>...</td>\n",
              "      <td>...</td>\n",
              "      <td>...</td>\n",
              "      <td>...</td>\n",
              "      <td>...</td>\n",
              "      <td>...</td>\n",
              "      <td>...</td>\n",
              "      <td>...</td>\n",
              "    </tr>\n",
              "    <tr>\n",
              "      <th>145</th>\n",
              "      <td>The Recruit</td>\n",
              "      <td>16030542</td>\n",
              "      <td>146</td>\n",
              "      <td>2022-</td>\n",
              "      <td>['Action', 'Adventure', 'Crime', 'Drama', 'Thr...</td>\n",
              "      <td>7.4</td>\n",
              "      <td>30563.0</td>\n",
              "      <td>NaN</td>\n",
              "      <td>NaN</td>\n",
              "      <td>Netflix</td>\n",
              "      <td>497</td>\n",
              "    </tr>\n",
              "    <tr>\n",
              "      <th>146</th>\n",
              "      <td>Magnum P.I.</td>\n",
              "      <td>7942796</td>\n",
              "      <td>147</td>\n",
              "      <td>2018-2023</td>\n",
              "      <td>['Action', 'Adventure', 'Crime']</td>\n",
              "      <td>6.1</td>\n",
              "      <td>14402.0</td>\n",
              "      <td>NaN</td>\n",
              "      <td>NaN</td>\n",
              "      <td>Peacock</td>\n",
              "      <td>295</td>\n",
              "    </tr>\n",
              "    <tr>\n",
              "      <th>147</th>\n",
              "      <td>Fear the Walking Dead</td>\n",
              "      <td>3743822</td>\n",
              "      <td>148</td>\n",
              "      <td>2015-2023</td>\n",
              "      <td>['Drama', 'Horror', 'Sci-Fi', 'Thriller']</td>\n",
              "      <td>6.8</td>\n",
              "      <td>132664.0</td>\n",
              "      <td>60.0</td>\n",
              "      <td>5.5</td>\n",
              "      <td>Hulu</td>\n",
              "      <td>24929</td>\n",
              "    </tr>\n",
              "    <tr>\n",
              "      <th>148</th>\n",
              "      <td>Funny Woman</td>\n",
              "      <td>15309272</td>\n",
              "      <td>149</td>\n",
              "      <td>2023-</td>\n",
              "      <td>['Comedy']</td>\n",
              "      <td>7.3</td>\n",
              "      <td>589.0</td>\n",
              "      <td>NaN</td>\n",
              "      <td>NaN</td>\n",
              "      <td>Showtime</td>\n",
              "      <td>0</td>\n",
              "    </tr>\n",
              "    <tr>\n",
              "      <th>149</th>\n",
              "      <td>Chicago P.D.</td>\n",
              "      <td>2805096</td>\n",
              "      <td>150</td>\n",
              "      <td>2014-</td>\n",
              "      <td>['Action', 'Crime', 'Drama', 'Thriller']</td>\n",
              "      <td>8.1</td>\n",
              "      <td>39920.0</td>\n",
              "      <td>50.0</td>\n",
              "      <td>7.7</td>\n",
              "      <td>Peacock</td>\n",
              "      <td>9200</td>\n",
              "    </tr>\n",
              "  </tbody>\n",
              "</table>\n",
              "<p>150 rows × 11 columns</p>\n",
              "</div>"
            ],
            "text/plain": [
              "                      name       ids  imdb_rank      years  \\\n",
              "0           The Last of Us   3581920          1      2023-   \n",
              "1                      You   7335184          2      2018-   \n",
              "2               Poker Face  14269590          3      2023-   \n",
              "3                     1923  18335752          4  2022-2023   \n",
              "4              Yellowstone   4236770          5  2018-2023   \n",
              "..                     ...       ...        ...        ...   \n",
              "145            The Recruit  16030542        146      2022-   \n",
              "146            Magnum P.I.   7942796        147  2018-2023   \n",
              "147  Fear the Walking Dead   3743822        148  2015-2023   \n",
              "148            Funny Woman  15309272        149      2023-   \n",
              "149           Chicago P.D.   2805096        150      2014-   \n",
              "\n",
              "                                                 genre  imdb_rating  \\\n",
              "0    ['Action', 'Adventure', 'Drama', 'Horror', 'Sc...          9.2   \n",
              "1            ['Crime', 'Drama', 'Romance', 'Thriller']          7.7   \n",
              "2                        ['Crime', 'Drama', 'Mystery']          8.1   \n",
              "3                                 ['Drama', 'Western']          8.6   \n",
              "4                                 ['Drama', 'Western']          8.7   \n",
              "..                                                 ...          ...   \n",
              "145  ['Action', 'Adventure', 'Crime', 'Drama', 'Thr...          7.4   \n",
              "146                   ['Action', 'Adventure', 'Crime']          6.1   \n",
              "147          ['Drama', 'Horror', 'Sci-Fi', 'Thriller']          6.8   \n",
              "148                                         ['Comedy']          7.3   \n",
              "149           ['Action', 'Crime', 'Drama', 'Thriller']          8.1   \n",
              "\n",
              "     imdb_votes  metacritic  meta_user_rating      service  reddit_comments  \n",
              "0      220703.0        84.0               7.7      HBO Max            80894  \n",
              "1      257575.0         NaN               NaN      Netflix            25171  \n",
              "2       13047.0         NaN               NaN      Peacock              353  \n",
              "3       17809.0        67.0               5.8  Paramount +             6480  \n",
              "4      162886.0         NaN               NaN      Peacock            36407  \n",
              "..          ...         ...               ...          ...              ...  \n",
              "145     30563.0         NaN               NaN      Netflix              497  \n",
              "146     14402.0         NaN               NaN      Peacock              295  \n",
              "147    132664.0        60.0               5.5         Hulu            24929  \n",
              "148       589.0         NaN               NaN     Showtime                0  \n",
              "149     39920.0        50.0               7.7      Peacock             9200  \n",
              "\n",
              "[150 rows x 11 columns]"
            ]
          },
          "execution_count": 16,
          "metadata": {},
          "output_type": "execute_result"
        }
      ],
      "source": [
        "shows = shows.merge(reddit, how = 'left', on = ['name'])\n",
        "shows.drop_duplicates\n",
        "shows"
      ]
    },
    {
      "cell_type": "code",
      "execution_count": 17,
      "metadata": {
        "id": "-odJhDKHWCF3"
      },
      "outputs": [],
      "source": [
        "twitter = pd.read_csv('raw/twitter.csv')\n",
        "twitter.columns = ['name', 'twitter_followers']"
      ]
    },
    {
      "cell_type": "code",
      "execution_count": 18,
      "metadata": {
        "colab": {
          "base_uri": "https://localhost:8080/",
          "height": 922
        },
        "id": "jUxiwylFWWvh",
        "outputId": "5b4992e7-5aa4-4ad6-b0b6-63a602133fff"
      },
      "outputs": [
        {
          "data": {
            "text/html": [
              "<div>\n",
              "<style scoped>\n",
              "    .dataframe tbody tr th:only-of-type {\n",
              "        vertical-align: middle;\n",
              "    }\n",
              "\n",
              "    .dataframe tbody tr th {\n",
              "        vertical-align: top;\n",
              "    }\n",
              "\n",
              "    .dataframe thead th {\n",
              "        text-align: right;\n",
              "    }\n",
              "</style>\n",
              "<table border=\"1\" class=\"dataframe\">\n",
              "  <thead>\n",
              "    <tr style=\"text-align: right;\">\n",
              "      <th></th>\n",
              "      <th>name</th>\n",
              "      <th>ids</th>\n",
              "      <th>imdb_rank</th>\n",
              "      <th>years</th>\n",
              "      <th>genre</th>\n",
              "      <th>imdb_rating</th>\n",
              "      <th>imdb_votes</th>\n",
              "      <th>metacritic</th>\n",
              "      <th>meta_user_rating</th>\n",
              "      <th>service</th>\n",
              "      <th>reddit_comments</th>\n",
              "      <th>twitter_followers</th>\n",
              "    </tr>\n",
              "  </thead>\n",
              "  <tbody>\n",
              "    <tr>\n",
              "      <th>0</th>\n",
              "      <td>The Last of Us</td>\n",
              "      <td>3581920</td>\n",
              "      <td>1</td>\n",
              "      <td>2023-</td>\n",
              "      <td>['Action', 'Adventure', 'Drama', 'Horror', 'Sc...</td>\n",
              "      <td>9.2</td>\n",
              "      <td>220703.0</td>\n",
              "      <td>84.0</td>\n",
              "      <td>7.7</td>\n",
              "      <td>HBO Max</td>\n",
              "      <td>80894</td>\n",
              "      <td>388300</td>\n",
              "    </tr>\n",
              "    <tr>\n",
              "      <th>1</th>\n",
              "      <td>You</td>\n",
              "      <td>7335184</td>\n",
              "      <td>2</td>\n",
              "      <td>2018-</td>\n",
              "      <td>['Crime', 'Drama', 'Romance', 'Thriller']</td>\n",
              "      <td>7.7</td>\n",
              "      <td>257575.0</td>\n",
              "      <td>NaN</td>\n",
              "      <td>NaN</td>\n",
              "      <td>Netflix</td>\n",
              "      <td>25171</td>\n",
              "      <td>360700</td>\n",
              "    </tr>\n",
              "    <tr>\n",
              "      <th>2</th>\n",
              "      <td>Poker Face</td>\n",
              "      <td>14269590</td>\n",
              "      <td>3</td>\n",
              "      <td>2023-</td>\n",
              "      <td>['Crime', 'Drama', 'Mystery']</td>\n",
              "      <td>8.1</td>\n",
              "      <td>13047.0</td>\n",
              "      <td>NaN</td>\n",
              "      <td>NaN</td>\n",
              "      <td>Peacock</td>\n",
              "      <td>353</td>\n",
              "      <td>0</td>\n",
              "    </tr>\n",
              "    <tr>\n",
              "      <th>3</th>\n",
              "      <td>1923</td>\n",
              "      <td>18335752</td>\n",
              "      <td>4</td>\n",
              "      <td>2022-2023</td>\n",
              "      <td>['Drama', 'Western']</td>\n",
              "      <td>8.6</td>\n",
              "      <td>17809.0</td>\n",
              "      <td>67.0</td>\n",
              "      <td>5.8</td>\n",
              "      <td>Paramount +</td>\n",
              "      <td>6480</td>\n",
              "      <td>44500</td>\n",
              "    </tr>\n",
              "    <tr>\n",
              "      <th>4</th>\n",
              "      <td>Yellowstone</td>\n",
              "      <td>4236770</td>\n",
              "      <td>5</td>\n",
              "      <td>2018-2023</td>\n",
              "      <td>['Drama', 'Western']</td>\n",
              "      <td>8.7</td>\n",
              "      <td>162886.0</td>\n",
              "      <td>NaN</td>\n",
              "      <td>NaN</td>\n",
              "      <td>Peacock</td>\n",
              "      <td>36407</td>\n",
              "      <td>319100</td>\n",
              "    </tr>\n",
              "    <tr>\n",
              "      <th>...</th>\n",
              "      <td>...</td>\n",
              "      <td>...</td>\n",
              "      <td>...</td>\n",
              "      <td>...</td>\n",
              "      <td>...</td>\n",
              "      <td>...</td>\n",
              "      <td>...</td>\n",
              "      <td>...</td>\n",
              "      <td>...</td>\n",
              "      <td>...</td>\n",
              "      <td>...</td>\n",
              "      <td>...</td>\n",
              "    </tr>\n",
              "    <tr>\n",
              "      <th>145</th>\n",
              "      <td>The Recruit</td>\n",
              "      <td>16030542</td>\n",
              "      <td>146</td>\n",
              "      <td>2022-</td>\n",
              "      <td>['Action', 'Adventure', 'Crime', 'Drama', 'Thr...</td>\n",
              "      <td>7.4</td>\n",
              "      <td>30563.0</td>\n",
              "      <td>NaN</td>\n",
              "      <td>NaN</td>\n",
              "      <td>Netflix</td>\n",
              "      <td>497</td>\n",
              "      <td>0</td>\n",
              "    </tr>\n",
              "    <tr>\n",
              "      <th>146</th>\n",
              "      <td>Magnum P.I.</td>\n",
              "      <td>7942796</td>\n",
              "      <td>147</td>\n",
              "      <td>2018-2023</td>\n",
              "      <td>['Action', 'Adventure', 'Crime']</td>\n",
              "      <td>6.1</td>\n",
              "      <td>14402.0</td>\n",
              "      <td>NaN</td>\n",
              "      <td>NaN</td>\n",
              "      <td>Peacock</td>\n",
              "      <td>295</td>\n",
              "      <td>32600</td>\n",
              "    </tr>\n",
              "    <tr>\n",
              "      <th>147</th>\n",
              "      <td>Fear the Walking Dead</td>\n",
              "      <td>3743822</td>\n",
              "      <td>148</td>\n",
              "      <td>2015-2023</td>\n",
              "      <td>['Drama', 'Horror', 'Sci-Fi', 'Thriller']</td>\n",
              "      <td>6.8</td>\n",
              "      <td>132664.0</td>\n",
              "      <td>60.0</td>\n",
              "      <td>5.5</td>\n",
              "      <td>Hulu</td>\n",
              "      <td>24929</td>\n",
              "      <td>324600</td>\n",
              "    </tr>\n",
              "    <tr>\n",
              "      <th>148</th>\n",
              "      <td>Funny Woman</td>\n",
              "      <td>15309272</td>\n",
              "      <td>149</td>\n",
              "      <td>2023-</td>\n",
              "      <td>['Comedy']</td>\n",
              "      <td>7.3</td>\n",
              "      <td>589.0</td>\n",
              "      <td>NaN</td>\n",
              "      <td>NaN</td>\n",
              "      <td>Showtime</td>\n",
              "      <td>0</td>\n",
              "      <td>0</td>\n",
              "    </tr>\n",
              "    <tr>\n",
              "      <th>149</th>\n",
              "      <td>Chicago P.D.</td>\n",
              "      <td>2805096</td>\n",
              "      <td>150</td>\n",
              "      <td>2014-</td>\n",
              "      <td>['Action', 'Crime', 'Drama', 'Thriller']</td>\n",
              "      <td>8.1</td>\n",
              "      <td>39920.0</td>\n",
              "      <td>50.0</td>\n",
              "      <td>7.7</td>\n",
              "      <td>Peacock</td>\n",
              "      <td>9200</td>\n",
              "      <td>373400</td>\n",
              "    </tr>\n",
              "  </tbody>\n",
              "</table>\n",
              "<p>150 rows × 12 columns</p>\n",
              "</div>"
            ],
            "text/plain": [
              "                      name       ids  imdb_rank      years  \\\n",
              "0           The Last of Us   3581920          1      2023-   \n",
              "1                      You   7335184          2      2018-   \n",
              "2               Poker Face  14269590          3      2023-   \n",
              "3                     1923  18335752          4  2022-2023   \n",
              "4              Yellowstone   4236770          5  2018-2023   \n",
              "..                     ...       ...        ...        ...   \n",
              "145            The Recruit  16030542        146      2022-   \n",
              "146            Magnum P.I.   7942796        147  2018-2023   \n",
              "147  Fear the Walking Dead   3743822        148  2015-2023   \n",
              "148            Funny Woman  15309272        149      2023-   \n",
              "149           Chicago P.D.   2805096        150      2014-   \n",
              "\n",
              "                                                 genre  imdb_rating  \\\n",
              "0    ['Action', 'Adventure', 'Drama', 'Horror', 'Sc...          9.2   \n",
              "1            ['Crime', 'Drama', 'Romance', 'Thriller']          7.7   \n",
              "2                        ['Crime', 'Drama', 'Mystery']          8.1   \n",
              "3                                 ['Drama', 'Western']          8.6   \n",
              "4                                 ['Drama', 'Western']          8.7   \n",
              "..                                                 ...          ...   \n",
              "145  ['Action', 'Adventure', 'Crime', 'Drama', 'Thr...          7.4   \n",
              "146                   ['Action', 'Adventure', 'Crime']          6.1   \n",
              "147          ['Drama', 'Horror', 'Sci-Fi', 'Thriller']          6.8   \n",
              "148                                         ['Comedy']          7.3   \n",
              "149           ['Action', 'Crime', 'Drama', 'Thriller']          8.1   \n",
              "\n",
              "     imdb_votes  metacritic  meta_user_rating      service  reddit_comments  \\\n",
              "0      220703.0        84.0               7.7      HBO Max            80894   \n",
              "1      257575.0         NaN               NaN      Netflix            25171   \n",
              "2       13047.0         NaN               NaN      Peacock              353   \n",
              "3       17809.0        67.0               5.8  Paramount +             6480   \n",
              "4      162886.0         NaN               NaN      Peacock            36407   \n",
              "..          ...         ...               ...          ...              ...   \n",
              "145     30563.0         NaN               NaN      Netflix              497   \n",
              "146     14402.0         NaN               NaN      Peacock              295   \n",
              "147    132664.0        60.0               5.5         Hulu            24929   \n",
              "148       589.0         NaN               NaN     Showtime                0   \n",
              "149     39920.0        50.0               7.7      Peacock             9200   \n",
              "\n",
              "     twitter_followers  \n",
              "0               388300  \n",
              "1               360700  \n",
              "2                    0  \n",
              "3                44500  \n",
              "4               319100  \n",
              "..                 ...  \n",
              "145                  0  \n",
              "146              32600  \n",
              "147             324600  \n",
              "148                  0  \n",
              "149             373400  \n",
              "\n",
              "[150 rows x 12 columns]"
            ]
          },
          "execution_count": 18,
          "metadata": {},
          "output_type": "execute_result"
        }
      ],
      "source": [
        "shows = shows.merge(twitter, how = 'left', on = ['name'])\n",
        "shows.drop_duplicates\n",
        "shows"
      ]
    },
    {
      "attachments": {},
      "cell_type": "markdown",
      "metadata": {},
      "source": [
        "## Data Exploration"
      ]
    },
    {
      "attachments": {},
      "cell_type": "markdown",
      "metadata": {},
      "source": [
        "ID column is dropped as it was an arbitrary number used to collect iMDB data."
      ]
    },
    {
      "cell_type": "code",
      "execution_count": 19,
      "metadata": {},
      "outputs": [],
      "source": [
        "del shows['ids']"
      ]
    },
    {
      "attachments": {},
      "cell_type": "markdown",
      "metadata": {},
      "source": [
        "### Numeric Data"
      ]
    },
    {
      "cell_type": "code",
      "execution_count": 20,
      "metadata": {},
      "outputs": [
        {
          "data": {
            "text/html": [
              "<div>\n",
              "<style scoped>\n",
              "    .dataframe tbody tr th:only-of-type {\n",
              "        vertical-align: middle;\n",
              "    }\n",
              "\n",
              "    .dataframe tbody tr th {\n",
              "        vertical-align: top;\n",
              "    }\n",
              "\n",
              "    .dataframe thead th {\n",
              "        text-align: right;\n",
              "    }\n",
              "</style>\n",
              "<table border=\"1\" class=\"dataframe\">\n",
              "  <thead>\n",
              "    <tr style=\"text-align: right;\">\n",
              "      <th></th>\n",
              "      <th>count</th>\n",
              "      <th>mean</th>\n",
              "      <th>std</th>\n",
              "      <th>min</th>\n",
              "      <th>25%</th>\n",
              "      <th>50%</th>\n",
              "      <th>75%</th>\n",
              "      <th>max</th>\n",
              "    </tr>\n",
              "  </thead>\n",
              "  <tbody>\n",
              "    <tr>\n",
              "      <th>imdb_rank</th>\n",
              "      <td>150.0</td>\n",
              "      <td>75.500000</td>\n",
              "      <td>4.344537e+01</td>\n",
              "      <td>1.0</td>\n",
              "      <td>38.25</td>\n",
              "      <td>75.50</td>\n",
              "      <td>112.7500</td>\n",
              "      <td>150.0</td>\n",
              "    </tr>\n",
              "    <tr>\n",
              "      <th>imdb_rating</th>\n",
              "      <td>148.0</td>\n",
              "      <td>7.925000</td>\n",
              "      <td>1.018193e+00</td>\n",
              "      <td>1.5</td>\n",
              "      <td>7.60</td>\n",
              "      <td>8.10</td>\n",
              "      <td>8.5000</td>\n",
              "      <td>9.5</td>\n",
              "    </tr>\n",
              "    <tr>\n",
              "      <th>imdb_votes</th>\n",
              "      <td>148.0</td>\n",
              "      <td>214927.202703</td>\n",
              "      <td>3.075942e+05</td>\n",
              "      <td>410.0</td>\n",
              "      <td>29234.25</td>\n",
              "      <td>116278.50</td>\n",
              "      <td>312531.7500</td>\n",
              "      <td>2129030.0</td>\n",
              "    </tr>\n",
              "    <tr>\n",
              "      <th>metacritic</th>\n",
              "      <td>102.0</td>\n",
              "      <td>68.707353</td>\n",
              "      <td>1.211635e+01</td>\n",
              "      <td>34.0</td>\n",
              "      <td>60.25</td>\n",
              "      <td>68.80</td>\n",
              "      <td>77.9375</td>\n",
              "      <td>94.5</td>\n",
              "    </tr>\n",
              "    <tr>\n",
              "      <th>meta_user_rating</th>\n",
              "      <td>102.0</td>\n",
              "      <td>7.195490</td>\n",
              "      <td>1.560914e+00</td>\n",
              "      <td>0.6</td>\n",
              "      <td>6.70</td>\n",
              "      <td>7.49</td>\n",
              "      <td>8.1750</td>\n",
              "      <td>9.4</td>\n",
              "    </tr>\n",
              "    <tr>\n",
              "      <th>reddit_comments</th>\n",
              "      <td>150.0</td>\n",
              "      <td>72870.746667</td>\n",
              "      <td>1.868220e+05</td>\n",
              "      <td>0.0</td>\n",
              "      <td>1540.25</td>\n",
              "      <td>10633.50</td>\n",
              "      <td>53561.7500</td>\n",
              "      <td>1760582.0</td>\n",
              "    </tr>\n",
              "    <tr>\n",
              "      <th>twitter_followers</th>\n",
              "      <td>150.0</td>\n",
              "      <td>542509.280000</td>\n",
              "      <td>1.083374e+06</td>\n",
              "      <td>0.0</td>\n",
              "      <td>4695.50</td>\n",
              "      <td>70300.00</td>\n",
              "      <td>639350.0000</td>\n",
              "      <td>8100000.0</td>\n",
              "    </tr>\n",
              "  </tbody>\n",
              "</table>\n",
              "</div>"
            ],
            "text/plain": [
              "                   count           mean           std    min       25%  \\\n",
              "imdb_rank          150.0      75.500000  4.344537e+01    1.0     38.25   \n",
              "imdb_rating        148.0       7.925000  1.018193e+00    1.5      7.60   \n",
              "imdb_votes         148.0  214927.202703  3.075942e+05  410.0  29234.25   \n",
              "metacritic         102.0      68.707353  1.211635e+01   34.0     60.25   \n",
              "meta_user_rating   102.0       7.195490  1.560914e+00    0.6      6.70   \n",
              "reddit_comments    150.0   72870.746667  1.868220e+05    0.0   1540.25   \n",
              "twitter_followers  150.0  542509.280000  1.083374e+06    0.0   4695.50   \n",
              "\n",
              "                         50%          75%        max  \n",
              "imdb_rank              75.50     112.7500      150.0  \n",
              "imdb_rating             8.10       8.5000        9.5  \n",
              "imdb_votes         116278.50  312531.7500  2129030.0  \n",
              "metacritic             68.80      77.9375       94.5  \n",
              "meta_user_rating        7.49       8.1750        9.4  \n",
              "reddit_comments     10633.50   53561.7500  1760582.0  \n",
              "twitter_followers   70300.00  639350.0000  8100000.0  "
            ]
          },
          "execution_count": 20,
          "metadata": {},
          "output_type": "execute_result"
        }
      ],
      "source": [
        "numeric = shows.select_dtypes(include=[np.number])\n",
        "numeric.describe().T"
      ]
    },
    {
      "attachments": {},
      "cell_type": "markdown",
      "metadata": {},
      "source": [
        "* Right skewed data for Twitter and Reddit. To be expected, will potentially look to handle later.\n",
        "* Missing several values for metacritic data. If data does not appear to be significant to iMDB ranking, it will be dropped."
      ]
    },
    {
      "cell_type": "code",
      "execution_count": 21,
      "metadata": {},
      "outputs": [
        {
          "data": {
            "image/png": "[encoded data removed]",
            "text/plain": [
              "<Figure size 500x300 with 1 Axes>"
            ]
          },
          "metadata": {},
          "output_type": "display_data"
        }
      ],
      "source": [
        "plt.figure(figsize=(5,3), tight_layout=True)\n",
        "ax = sns.histplot(data=shows, x = 'imdb_rating')\n",
        "ax.set(title='Rating Histogram')\n",
        "plt.show()"
      ]
    },
    {
      "attachments": {},
      "cell_type": "markdown",
      "metadata": {},
      "source": [
        "Fairly well distributed from 6 to 9+"
      ]
    },
    {
      "cell_type": "code",
      "execution_count": 22,
      "metadata": {},
      "outputs": [
        {
          "data": {
            "image/png": "[encoded data removed]",
            "text/plain": [
              "<Figure size 500x300 with 1 Axes>"
            ]
          },
          "metadata": {},
          "output_type": "display_data"
        }
      ],
      "source": [
        "plt.figure(figsize=(5,3), tight_layout=True)\n",
        "ax = sns.histplot(data=shows, x = 'imdb_votes')\n",
        "ax.set(title='iMDB votes Histogram')\n",
        "plt.show()"
      ]
    },
    {
      "attachments": {},
      "cell_type": "markdown",
      "metadata": {},
      "source": [
        "Left skewed, may need to transform"
      ]
    },
    {
      "cell_type": "code",
      "execution_count": 23,
      "metadata": {},
      "outputs": [
        {
          "data": {
            "image/png": "[encoded data removed]",
            "text/plain": [
              "<Figure size 500x300 with 1 Axes>"
            ]
          },
          "metadata": {},
          "output_type": "display_data"
        }
      ],
      "source": [
        "plt.figure(figsize=(5,3), tight_layout=True)\n",
        "ax = sns.histplot(data=shows, x = 'metacritic')\n",
        "ax.set(title='Metacritic score Histogram')\n",
        "plt.show()"
      ]
    },
    {
      "attachments": {},
      "cell_type": "markdown",
      "metadata": {},
      "source": [
        "Well distributed"
      ]
    },
    {
      "cell_type": "code",
      "execution_count": 24,
      "metadata": {},
      "outputs": [
        {
          "data": {
            "image/png": "[encoded data removed]",
            "text/plain": [
              "<Figure size 500x300 with 1 Axes>"
            ]
          },
          "metadata": {},
          "output_type": "display_data"
        }
      ],
      "source": [
        "plt.figure(figsize=(5,3), tight_layout=True)\n",
        "ax = sns.histplot(data=shows, x = 'meta_user_rating')\n",
        "ax.set(title='Metacritic User Score Histogram')\n",
        "plt.show()"
      ]
    },
    {
      "attachments": {},
      "cell_type": "markdown",
      "metadata": {},
      "source": [
        "Well distributed around 6-8"
      ]
    },
    {
      "cell_type": "code",
      "execution_count": 25,
      "metadata": {},
      "outputs": [
        {
          "data": {
            "image/png": "[encoded data removed]",
            "text/plain": [
              "<Figure size 500x300 with 1 Axes>"
            ]
          },
          "metadata": {},
          "output_type": "display_data"
        }
      ],
      "source": [
        "plt.figure(figsize=(5,3), tight_layout=True)\n",
        "ax = sns.histplot(data=shows, x = 'reddit_comments')\n",
        "ax.set(title='Reddit Comments Histogram')\n",
        "plt.show()"
      ]
    },
    {
      "attachments": {},
      "cell_type": "markdown",
      "metadata": {},
      "source": [
        "Extremely left skewed"
      ]
    },
    {
      "cell_type": "code",
      "execution_count": 26,
      "metadata": {},
      "outputs": [
        {
          "data": {
            "image/png": "[encoded data removed]",
            "text/plain": [
              "<Figure size 500x300 with 1 Axes>"
            ]
          },
          "metadata": {},
          "output_type": "display_data"
        }
      ],
      "source": [
        "plt.figure(figsize=(5,3), tight_layout=True)\n",
        "ax = sns.histplot(data=shows, x = 'twitter_followers')\n",
        "ax.set(title='Twitter Followers Histogram')\n",
        "plt.show()"
      ]
    },
    {
      "attachments": {},
      "cell_type": "markdown",
      "metadata": {},
      "source": [
        "Extremely left skewed, 0 inflated"
      ]
    },
    {
      "cell_type": "code",
      "execution_count": 27,
      "metadata": {},
      "outputs": [
        {
          "data": {
            "image/png": "[encoded data removed]",
            "text/plain": [
              "<Figure size 640x480 with 1 Axes>"
            ]
          },
          "metadata": {},
          "output_type": "display_data"
        }
      ],
      "source": [
        "scatter = sns.scatterplot(x='imdb_rating',y='imdb_rank', data=shows)\n",
        "scatter.set_title('iMDB rating vs Popularity rank')\n",
        "plt.gca().invert_yaxis()\n",
        "\n",
        "plt.show()"
      ]
    },
    {
      "attachments": {},
      "cell_type": "markdown",
      "metadata": {},
      "source": [
        "There is no clear correlation between imdb rating and a shows popularity rank"
      ]
    },
    {
      "cell_type": "code",
      "execution_count": 28,
      "metadata": {},
      "outputs": [
        {
          "data": {
            "image/png": "[encoded data removed]",
            "text/plain": [
              "<Figure size 640x480 with 1 Axes>"
            ]
          },
          "metadata": {},
          "output_type": "display_data"
        }
      ],
      "source": [
        "scatter = sns.scatterplot(x='imdb_votes',y='imdb_rank', data=shows)\n",
        "scatter.set_title('iMDB votes vs Popularity rank')\n",
        "plt.gca().invert_yaxis()\n",
        "\n",
        "plt.show()"
      ]
    },
    {
      "attachments": {},
      "cell_type": "markdown",
      "metadata": {},
      "source": [
        "Here we see a slight correlation, with the most popular shows having the most votes on iMDB"
      ]
    },
    {
      "cell_type": "code",
      "execution_count": 29,
      "metadata": {},
      "outputs": [
        {
          "data": {
            "image/png": "[encoded data removed]",
            "text/plain": [
              "<Figure size 640x480 with 1 Axes>"
            ]
          },
          "metadata": {},
          "output_type": "display_data"
        }
      ],
      "source": [
        "scatter = sns.scatterplot(x='metacritic',y='imdb_rank', data=shows)\n",
        "scatter.set_title('Metacritic score vs Popularity rank')\n",
        "plt.gca().invert_yaxis()\n",
        "\n",
        "plt.show()"
      ]
    },
    {
      "cell_type": "code",
      "execution_count": 30,
      "metadata": {},
      "outputs": [
        {
          "data": {
            "image/png": "[encoded data removed]",
            "text/plain": [
              "<Figure size 640x480 with 1 Axes>"
            ]
          },
          "metadata": {},
          "output_type": "display_data"
        }
      ],
      "source": [
        "scatter = sns.scatterplot(x='meta_user_rating',y='imdb_rank', data=shows)\n",
        "scatter.set_title('Metacritic user score vs Popularity rank')\n",
        "plt.gca().invert_yaxis()\n",
        "\n",
        "plt.show()"
      ]
    },
    {
      "attachments": {},
      "cell_type": "markdown",
      "metadata": {},
      "source": [
        "No clear correlation in either metacritic data points, might be removed from data"
      ]
    },
    {
      "cell_type": "code",
      "execution_count": 31,
      "metadata": {},
      "outputs": [
        {
          "data": {
            "image/png": "[encoded data removed]",
            "text/plain": [
              "<Figure size 640x480 with 1 Axes>"
            ]
          },
          "metadata": {},
          "output_type": "display_data"
        }
      ],
      "source": [
        "scatter = sns.scatterplot(x=shows['reddit_comments'].apply(lambda x: np.log1p(x)),y='imdb_rank', data=shows)\n",
        "scatter.set_title('Reddit Comments vs Popularity rank')\n",
        "plt.gca().invert_yaxis()\n",
        "\n",
        "plt.show()"
      ]
    },
    {
      "attachments": {},
      "cell_type": "markdown",
      "metadata": {},
      "source": [
        "We see little correlation here, a log + 1 transformation was used due to 0 inflated left skewed data"
      ]
    },
    {
      "cell_type": "code",
      "execution_count": 32,
      "metadata": {},
      "outputs": [
        {
          "data": {
            "image/png": "[encoded data removed]",
            "text/plain": [
              "<Figure size 640x480 with 1 Axes>"
            ]
          },
          "metadata": {},
          "output_type": "display_data"
        }
      ],
      "source": [
        "scatter = sns.scatterplot(x=shows['twitter_followers'].apply(lambda x: np.log1p(x)),y='imdb_rank', data=shows)\n",
        "scatter.set_title('Reddit Comments vs Popularity rank')\n",
        "plt.gca().invert_yaxis()\n",
        "\n",
        "plt.show()"
      ]
    },
    {
      "attachments": {},
      "cell_type": "markdown",
      "metadata": {},
      "source": [
        "We see little correlation here, a log + 1 transformation was used due to 0 inflated left skewed data"
      ]
    },
    {
      "attachments": {},
      "cell_type": "markdown",
      "metadata": {},
      "source": [
        "### Categorical Data"
      ]
    },
    {
      "cell_type": "code",
      "execution_count": 33,
      "metadata": {},
      "outputs": [
        {
          "data": {
            "text/html": [
              "<div>\n",
              "<style scoped>\n",
              "    .dataframe tbody tr th:only-of-type {\n",
              "        vertical-align: middle;\n",
              "    }\n",
              "\n",
              "    .dataframe tbody tr th {\n",
              "        vertical-align: top;\n",
              "    }\n",
              "\n",
              "    .dataframe thead th {\n",
              "        text-align: right;\n",
              "    }\n",
              "</style>\n",
              "<table border=\"1\" class=\"dataframe\">\n",
              "  <thead>\n",
              "    <tr style=\"text-align: right;\">\n",
              "      <th></th>\n",
              "      <th>count</th>\n",
              "      <th>unique</th>\n",
              "      <th>top</th>\n",
              "      <th>freq</th>\n",
              "    </tr>\n",
              "  </thead>\n",
              "  <tbody>\n",
              "    <tr>\n",
              "      <th>name</th>\n",
              "      <td>150</td>\n",
              "      <td>150</td>\n",
              "      <td>The Last of Us</td>\n",
              "      <td>1</td>\n",
              "    </tr>\n",
              "    <tr>\n",
              "      <th>years</th>\n",
              "      <td>148</td>\n",
              "      <td>64</td>\n",
              "      <td>2023-</td>\n",
              "      <td>23</td>\n",
              "    </tr>\n",
              "    <tr>\n",
              "      <th>genre</th>\n",
              "      <td>148</td>\n",
              "      <td>76</td>\n",
              "      <td>['Comedy']</td>\n",
              "      <td>10</td>\n",
              "    </tr>\n",
              "    <tr>\n",
              "      <th>service</th>\n",
              "      <td>150</td>\n",
              "      <td>12</td>\n",
              "      <td>Netflix</td>\n",
              "      <td>37</td>\n",
              "    </tr>\n",
              "  </tbody>\n",
              "</table>\n",
              "</div>"
            ],
            "text/plain": [
              "        count unique             top freq\n",
              "name      150    150  The Last of Us    1\n",
              "years     148     64           2023-   23\n",
              "genre     148     76      ['Comedy']   10\n",
              "service   150     12         Netflix   37"
            ]
          },
          "execution_count": 33,
          "metadata": {},
          "output_type": "execute_result"
        }
      ],
      "source": [
        "categorical = shows.select_dtypes(include=[object])\n",
        "categorical.describe().T"
      ]
    },
    {
      "cell_type": "code",
      "execution_count": 34,
      "metadata": {},
      "outputs": [],
      "source": [
        "categorical['imdb_rank'] = shows['imdb_rank']"
      ]
    },
    {
      "cell_type": "code",
      "execution_count": 35,
      "metadata": {},
      "outputs": [
        {
          "data": {
            "text/plain": [
              "2023-        23\n",
              "2022-        18\n",
              "2021-         9\n",
              "2019-         6\n",
              "2017-         5\n",
              "             ..\n",
              "2005-2017     1\n",
              "1998-2006     1\n",
              "2016-2022     1\n",
              "2002-2008     1\n",
              "2015-2023     1\n",
              "Name: years, Length: 64, dtype: int64"
            ]
          },
          "execution_count": 35,
          "metadata": {},
          "output_type": "execute_result"
        }
      ],
      "source": [
        "categorical.years.value_counts()"
      ]
    },
    {
      "attachments": {},
      "cell_type": "markdown",
      "metadata": {},
      "source": [
        "#### Creating a new variable 'Status' that tracks if a show is currently airing or now"
      ]
    },
    {
      "cell_type": "code",
      "execution_count": 36,
      "metadata": {},
      "outputs": [],
      "source": [
        "def series_status(years):\n",
        "    if years.endswith('-'):\n",
        "        return 'current'\n",
        "    else:\n",
        "        return 'finished'"
      ]
    },
    {
      "cell_type": "code",
      "execution_count": 37,
      "metadata": {},
      "outputs": [],
      "source": [
        "categorical.years = categorical.years.astype(str)\n",
        "categorical['status'] = categorical.years.apply(series_status)"
      ]
    },
    {
      "cell_type": "code",
      "execution_count": 38,
      "metadata": {},
      "outputs": [
        {
          "data": {
            "text/plain": [
              "count         150\n",
              "unique          2\n",
              "top       current\n",
              "freq           92\n",
              "Name: status, dtype: object"
            ]
          },
          "execution_count": 38,
          "metadata": {},
          "output_type": "execute_result"
        }
      ],
      "source": [
        "categorical.status.describe()"
      ]
    },
    {
      "cell_type": "code",
      "execution_count": 39,
      "metadata": {},
      "outputs": [
        {
          "data": {
            "image/png": "[encoded data removed]",
            "text/plain": [
              "<Figure size 500x300 with 1 Axes>"
            ]
          },
          "metadata": {},
          "output_type": "display_data"
        }
      ],
      "source": [
        "plt.figure(figsize=(5,3), tight_layout=True)\n",
        "ax = sns.histplot(data=categorical, x = 'status')\n",
        "ax.set(title='Show Status Histogram')\n",
        "plt.show()"
      ]
    },
    {
      "attachments": {},
      "cell_type": "markdown",
      "metadata": {},
      "source": [
        "We see that most of the shows in the iMDB top 150 are currently airing."
      ]
    },
    {
      "cell_type": "code",
      "execution_count": 40,
      "metadata": {},
      "outputs": [],
      "source": [
        "shows['status'] = categorical['status']"
      ]
    },
    {
      "cell_type": "code",
      "execution_count": 41,
      "metadata": {},
      "outputs": [
        {
          "data": {
            "image/png": "[encoded data removed]",
            "text/plain": [
              "<Figure size 640x480 with 1 Axes>"
            ]
          },
          "metadata": {},
          "output_type": "display_data"
        }
      ],
      "source": [
        "sns.boxplot(x='status', y='imdb_rank', data=categorical)\n",
        "plt.gca().invert_yaxis()\n",
        "\n",
        "plt.show()"
      ]
    },
    {
      "attachments": {},
      "cell_type": "markdown",
      "metadata": {},
      "source": [
        "Finished shows tend to be slightly higher in the popularity rankings than current shows, but the most popular shows are current"
      ]
    },
    {
      "attachments": {},
      "cell_type": "markdown",
      "metadata": {},
      "source": [
        "#### Creating a new column that tracks how long a show has run for"
      ]
    },
    {
      "attachments": {},
      "cell_type": "markdown",
      "metadata": {},
      "source": [
        "This is numeric data, but will be explored here."
      ]
    },
    {
      "cell_type": "code",
      "execution_count": 42,
      "metadata": {},
      "outputs": [],
      "source": [
        "def getRuntime(years):\n",
        "    start_end = years.split('-')\n",
        "    try:\n",
        "        if len(start_end) == 1 or start_end[1] == '':\n",
        "            return 2023 - int(start_end[0]) + 1\n",
        "        else:\n",
        "            return int(start_end[1]) - int(start_end[0]) + 1\n",
        "    except:\n",
        "        return None"
      ]
    },
    {
      "cell_type": "code",
      "execution_count": 43,
      "metadata": {},
      "outputs": [],
      "source": [
        "shows.years = shows.years.astype(str)\n",
        "\n",
        "shows['runtime'] = shows.years.apply(getRuntime)"
      ]
    },
    {
      "cell_type": "code",
      "execution_count": 44,
      "metadata": {},
      "outputs": [
        {
          "data": {
            "text/plain": [
              "count    148.000000\n",
              "mean       7.297297\n",
              "std        6.760690\n",
              "min        1.000000\n",
              "25%        2.000000\n",
              "50%        6.000000\n",
              "75%       10.000000\n",
              "max       35.000000\n",
              "Name: runtime, dtype: float64"
            ]
          },
          "execution_count": 44,
          "metadata": {},
          "output_type": "execute_result"
        }
      ],
      "source": [
        "shows.runtime.describe()"
      ]
    },
    {
      "cell_type": "code",
      "execution_count": 45,
      "metadata": {},
      "outputs": [
        {
          "data": {
            "image/png": "[encoded data removed]",
            "text/plain": [
              "<Figure size 500x300 with 1 Axes>"
            ]
          },
          "metadata": {},
          "output_type": "display_data"
        }
      ],
      "source": [
        "plt.figure(figsize=(5,3), tight_layout=True)\n",
        "ax = sns.histplot(data=shows, x = 'runtime')\n",
        "ax.set(title='Show Runtime Histogram')\n",
        "plt.show()"
      ]
    },
    {
      "cell_type": "code",
      "execution_count": 46,
      "metadata": {},
      "outputs": [
        {
          "data": {
            "image/png": "[encoded data removed]",
            "text/plain": [
              "<Figure size 640x480 with 1 Axes>"
            ]
          },
          "metadata": {},
          "output_type": "display_data"
        }
      ],
      "source": [
        "scatter = sns.scatterplot(x='runtime',y='imdb_rank', data=shows)\n",
        "scatter.set_title('Series Run Time vs Popularity rank')\n",
        "plt.gca().invert_yaxis()\n",
        "\n",
        "plt.show()"
      ]
    },
    {
      "attachments": {},
      "cell_type": "markdown",
      "metadata": {},
      "source": [
        "New shows appear to dominate the most popular shows, which makes sense. However, some long running shows are still very popular."
      ]
    },
    {
      "cell_type": "code",
      "execution_count": 47,
      "metadata": {},
      "outputs": [
        {
          "data": {
            "text/plain": [
              "count            148\n",
              "unique            76\n",
              "top       ['Comedy']\n",
              "freq              10\n",
              "Name: genre, dtype: object"
            ]
          },
          "execution_count": 47,
          "metadata": {},
          "output_type": "execute_result"
        }
      ],
      "source": [
        "categorical.genre.describe()"
      ]
    },
    {
      "cell_type": "code",
      "execution_count": 48,
      "metadata": {},
      "outputs": [],
      "source": [
        "categorical['genre'] = categorical['genre'].astype(str)"
      ]
    },
    {
      "cell_type": "code",
      "execution_count": 49,
      "metadata": {},
      "outputs": [],
      "source": [
        "regex = r'^\\[\\'([A-Z][a-z]+)'\n",
        "categorical['primary_genre'] = categorical['genre'].str.extract(regex)"
      ]
    },
    {
      "attachments": {},
      "cell_type": "markdown",
      "metadata": {},
      "source": [
        "Due to there being multiple genres for the majority of shows, the primary genre will be extracted from each show for similicity."
      ]
    },
    {
      "cell_type": "code",
      "execution_count": 50,
      "metadata": {},
      "outputs": [
        {
          "data": {
            "text/plain": [
              "count        148\n",
              "unique         9\n",
              "top       Comedy\n",
              "freq          35\n",
              "Name: primary_genre, dtype: object"
            ]
          },
          "execution_count": 50,
          "metadata": {},
          "output_type": "execute_result"
        }
      ],
      "source": [
        "categorical.primary_genre.describe()"
      ]
    },
    {
      "cell_type": "code",
      "execution_count": 51,
      "metadata": {},
      "outputs": [
        {
          "data": {
            "image/png": "[encoded data removed]",
            "text/plain": [
              "<Figure size 1500x600 with 1 Axes>"
            ]
          },
          "metadata": {},
          "output_type": "display_data"
        }
      ],
      "source": [
        "plt.figure(figsize=(15,6), tight_layout=True)\n",
        "ax = sns.histplot(data=categorical, x = 'primary_genre')\n",
        "ax.set(title='Show Genre Histogram')\n",
        "plt.show()"
      ]
    },
    {
      "cell_type": "code",
      "execution_count": 52,
      "metadata": {},
      "outputs": [],
      "source": [
        "shows['primary_genre'] = categorical['primary_genre']"
      ]
    },
    {
      "attachments": {},
      "cell_type": "markdown",
      "metadata": {},
      "source": [
        "Action, Crime, Drama, and Comedy dominate the most popular shows. Animation also has several shows in the top 150."
      ]
    },
    {
      "cell_type": "code",
      "execution_count": 53,
      "metadata": {},
      "outputs": [
        {
          "data": {
            "text/plain": [
              "count         150\n",
              "unique         12\n",
              "top       Netflix\n",
              "freq           37\n",
              "Name: service, dtype: object"
            ]
          },
          "execution_count": 53,
          "metadata": {},
          "output_type": "execute_result"
        }
      ],
      "source": [
        "categorical.service.describe()"
      ]
    },
    {
      "cell_type": "code",
      "execution_count": 54,
      "metadata": {},
      "outputs": [
        {
          "data": {
            "image/png": "[encoded data removed]",
            "text/plain": [
              "<Figure size 1500x600 with 1 Axes>"
            ]
          },
          "metadata": {},
          "output_type": "display_data"
        }
      ],
      "source": [
        "plt.figure(figsize=(15,6), tight_layout=True)\n",
        "ax = sns.histplot(data=categorical, x = 'service')\n",
        "ax.set(title='Show Primary Streaming Histogram')\n",
        "plt.show()"
      ]
    },
    {
      "attachments": {},
      "cell_type": "markdown",
      "metadata": {},
      "source": [
        "The most popular SVODs (Hulu and Netflix) dominate the most popular shows."
      ]
    },
    {
      "attachments": {},
      "cell_type": "markdown",
      "metadata": {},
      "source": [
        "## Data Cleaning"
      ]
    },
    {
      "attachments": {},
      "cell_type": "markdown",
      "metadata": {},
      "source": [
        "### Handling NULL values"
      ]
    },
    {
      "cell_type": "code",
      "execution_count": 55,
      "metadata": {},
      "outputs": [
        {
          "data": {
            "text/plain": [
              "name                  0\n",
              "imdb_rank             0\n",
              "years                 0\n",
              "genre                 2\n",
              "imdb_rating           2\n",
              "imdb_votes            2\n",
              "metacritic           48\n",
              "meta_user_rating     48\n",
              "service               0\n",
              "reddit_comments       0\n",
              "twitter_followers     0\n",
              "status                0\n",
              "runtime               2\n",
              "primary_genre         2\n",
              "dtype: int64"
            ]
          },
          "execution_count": 55,
          "metadata": {},
          "output_type": "execute_result"
        }
      ],
      "source": [
        "nulls = shows.isnull().sum()\n",
        "nulls"
      ]
    },
    {
      "attachments": {},
      "cell_type": "markdown",
      "metadata": {},
      "source": [
        "Almost a third of the data has null values for Metacritic critic and user score. These columns will be deleted from the data."
      ]
    },
    {
      "cell_type": "code",
      "execution_count": 56,
      "metadata": {},
      "outputs": [],
      "source": [
        "del shows['metacritic']\n",
        "del shows['meta_user_rating']"
      ]
    },
    {
      "attachments": {},
      "cell_type": "markdown",
      "metadata": {},
      "source": [
        "Two shows have null values in several columns, it is likely that these are the same shows."
      ]
    },
    {
      "cell_type": "code",
      "execution_count": 57,
      "metadata": {},
      "outputs": [
        {
          "data": {
            "text/html": [
              "<div>\n",
              "<style scoped>\n",
              "    .dataframe tbody tr th:only-of-type {\n",
              "        vertical-align: middle;\n",
              "    }\n",
              "\n",
              "    .dataframe tbody tr th {\n",
              "        vertical-align: top;\n",
              "    }\n",
              "\n",
              "    .dataframe thead th {\n",
              "        text-align: right;\n",
              "    }\n",
              "</style>\n",
              "<table border=\"1\" class=\"dataframe\">\n",
              "  <thead>\n",
              "    <tr style=\"text-align: right;\">\n",
              "      <th></th>\n",
              "      <th>name</th>\n",
              "      <th>imdb_rank</th>\n",
              "      <th>years</th>\n",
              "      <th>genre</th>\n",
              "      <th>imdb_rating</th>\n",
              "      <th>imdb_votes</th>\n",
              "      <th>service</th>\n",
              "      <th>reddit_comments</th>\n",
              "      <th>twitter_followers</th>\n",
              "      <th>status</th>\n",
              "      <th>runtime</th>\n",
              "      <th>primary_genre</th>\n",
              "    </tr>\n",
              "  </thead>\n",
              "  <tbody>\n",
              "    <tr>\n",
              "      <th>73</th>\n",
              "      <td>Jack Ryan</td>\n",
              "      <td>74</td>\n",
              "      <td>nan</td>\n",
              "      <td>NaN</td>\n",
              "      <td>NaN</td>\n",
              "      <td>NaN</td>\n",
              "      <td>Paramount +</td>\n",
              "      <td>1755</td>\n",
              "      <td>43800</td>\n",
              "      <td>finished</td>\n",
              "      <td>NaN</td>\n",
              "      <td>NaN</td>\n",
              "    </tr>\n",
              "    <tr>\n",
              "      <th>105</th>\n",
              "      <td>House M.D.</td>\n",
              "      <td>106</td>\n",
              "      <td>nan</td>\n",
              "      <td>NaN</td>\n",
              "      <td>NaN</td>\n",
              "      <td>NaN</td>\n",
              "      <td>Amazon Prime</td>\n",
              "      <td>18894</td>\n",
              "      <td>4665</td>\n",
              "      <td>finished</td>\n",
              "      <td>NaN</td>\n",
              "      <td>NaN</td>\n",
              "    </tr>\n",
              "  </tbody>\n",
              "</table>\n",
              "</div>"
            ],
            "text/plain": [
              "           name  imdb_rank years genre  imdb_rating  imdb_votes       service  \\\n",
              "73    Jack Ryan         74   nan   NaN          NaN         NaN   Paramount +   \n",
              "105  House M.D.        106   nan   NaN          NaN         NaN  Amazon Prime   \n",
              "\n",
              "     reddit_comments  twitter_followers    status  runtime primary_genre  \n",
              "73              1755              43800  finished      NaN           NaN  \n",
              "105            18894               4665  finished      NaN           NaN  "
            ]
          },
          "execution_count": 57,
          "metadata": {},
          "output_type": "execute_result"
        }
      ],
      "source": [
        "rows_with_null = shows[shows.isnull().any(axis=1)]\n",
        "rows_with_null.head()"
      ]
    },
    {
      "attachments": {},
      "cell_type": "markdown",
      "metadata": {},
      "source": [
        "The hypothesis was correct, these two shows will be removed from the data."
      ]
    },
    {
      "cell_type": "code",
      "execution_count": 58,
      "metadata": {},
      "outputs": [],
      "source": [
        "indices = shows[shows.isin(rows_with_null.to_dict(orient='list')).all(axis=1)].index\n",
        "shows = shows.drop(indices)"
      ]
    },
    {
      "cell_type": "code",
      "execution_count": 59,
      "metadata": {},
      "outputs": [
        {
          "data": {
            "text/plain": [
              "name                 0\n",
              "imdb_rank            0\n",
              "years                0\n",
              "genre                0\n",
              "imdb_rating          0\n",
              "imdb_votes           0\n",
              "service              0\n",
              "reddit_comments      0\n",
              "twitter_followers    0\n",
              "status               0\n",
              "runtime              0\n",
              "primary_genre        0\n",
              "dtype: int64"
            ]
          },
          "execution_count": 59,
          "metadata": {},
          "output_type": "execute_result"
        }
      ],
      "source": [
        "nulls = shows.isnull().sum()\n",
        "nulls"
      ]
    },
    {
      "attachments": {},
      "cell_type": "markdown",
      "metadata": {},
      "source": [
        "All NULL values have been handled, and we can proceed."
      ]
    },
    {
      "attachments": {},
      "cell_type": "markdown",
      "metadata": {},
      "source": [
        "### Handling Outliers"
      ]
    },
    {
      "cell_type": "code",
      "execution_count": 60,
      "metadata": {},
      "outputs": [
        {
          "data": {
            "text/html": [
              "<div>\n",
              "<style scoped>\n",
              "    .dataframe tbody tr th:only-of-type {\n",
              "        vertical-align: middle;\n",
              "    }\n",
              "\n",
              "    .dataframe tbody tr th {\n",
              "        vertical-align: top;\n",
              "    }\n",
              "\n",
              "    .dataframe thead th {\n",
              "        text-align: right;\n",
              "    }\n",
              "</style>\n",
              "<table border=\"1\" class=\"dataframe\">\n",
              "  <thead>\n",
              "    <tr style=\"text-align: right;\">\n",
              "      <th></th>\n",
              "      <th>count</th>\n",
              "      <th>mean</th>\n",
              "      <th>std</th>\n",
              "      <th>min</th>\n",
              "      <th>25%</th>\n",
              "      <th>50%</th>\n",
              "      <th>75%</th>\n",
              "      <th>max</th>\n",
              "    </tr>\n",
              "  </thead>\n",
              "  <tbody>\n",
              "    <tr>\n",
              "      <th>imdb_rank</th>\n",
              "      <td>148.0</td>\n",
              "      <td>75.304054</td>\n",
              "      <td>4.366690e+01</td>\n",
              "      <td>1.0</td>\n",
              "      <td>37.75</td>\n",
              "      <td>75.5</td>\n",
              "      <td>113.25</td>\n",
              "      <td>150.0</td>\n",
              "    </tr>\n",
              "    <tr>\n",
              "      <th>imdb_rating</th>\n",
              "      <td>148.0</td>\n",
              "      <td>7.925000</td>\n",
              "      <td>1.018193e+00</td>\n",
              "      <td>1.5</td>\n",
              "      <td>7.60</td>\n",
              "      <td>8.1</td>\n",
              "      <td>8.50</td>\n",
              "      <td>9.5</td>\n",
              "    </tr>\n",
              "    <tr>\n",
              "      <th>imdb_votes</th>\n",
              "      <td>148.0</td>\n",
              "      <td>214927.202703</td>\n",
              "      <td>3.075942e+05</td>\n",
              "      <td>410.0</td>\n",
              "      <td>29234.25</td>\n",
              "      <td>116278.5</td>\n",
              "      <td>312531.75</td>\n",
              "      <td>2129030.0</td>\n",
              "    </tr>\n",
              "    <tr>\n",
              "      <th>reddit_comments</th>\n",
              "      <td>148.0</td>\n",
              "      <td>73715.966216</td>\n",
              "      <td>1.879425e+05</td>\n",
              "      <td>0.0</td>\n",
              "      <td>1509.00</td>\n",
              "      <td>10633.5</td>\n",
              "      <td>55756.00</td>\n",
              "      <td>1760582.0</td>\n",
              "    </tr>\n",
              "    <tr>\n",
              "      <th>twitter_followers</th>\n",
              "      <td>148.0</td>\n",
              "      <td>549513.020270</td>\n",
              "      <td>1.089018e+06</td>\n",
              "      <td>0.0</td>\n",
              "      <td>4281.50</td>\n",
              "      <td>80950.0</td>\n",
              "      <td>653750.00</td>\n",
              "      <td>8100000.0</td>\n",
              "    </tr>\n",
              "    <tr>\n",
              "      <th>runtime</th>\n",
              "      <td>148.0</td>\n",
              "      <td>7.297297</td>\n",
              "      <td>6.760690e+00</td>\n",
              "      <td>1.0</td>\n",
              "      <td>2.00</td>\n",
              "      <td>6.0</td>\n",
              "      <td>10.00</td>\n",
              "      <td>35.0</td>\n",
              "    </tr>\n",
              "  </tbody>\n",
              "</table>\n",
              "</div>"
            ],
            "text/plain": [
              "                   count           mean           std    min       25%  \\\n",
              "imdb_rank          148.0      75.304054  4.366690e+01    1.0     37.75   \n",
              "imdb_rating        148.0       7.925000  1.018193e+00    1.5      7.60   \n",
              "imdb_votes         148.0  214927.202703  3.075942e+05  410.0  29234.25   \n",
              "reddit_comments    148.0   73715.966216  1.879425e+05    0.0   1509.00   \n",
              "twitter_followers  148.0  549513.020270  1.089018e+06    0.0   4281.50   \n",
              "runtime            148.0       7.297297  6.760690e+00    1.0      2.00   \n",
              "\n",
              "                        50%        75%        max  \n",
              "imdb_rank              75.5     113.25      150.0  \n",
              "imdb_rating             8.1       8.50        9.5  \n",
              "imdb_votes         116278.5  312531.75  2129030.0  \n",
              "reddit_comments     10633.5   55756.00  1760582.0  \n",
              "twitter_followers   80950.0  653750.00  8100000.0  \n",
              "runtime                 6.0      10.00       35.0  "
            ]
          },
          "execution_count": 60,
          "metadata": {},
          "output_type": "execute_result"
        }
      ],
      "source": [
        "shows.describe().T"
      ]
    },
    {
      "attachments": {},
      "cell_type": "markdown",
      "metadata": {},
      "source": [
        "There are no unrealistic outliers in the data that need to be dealt with immediately\n",
        "\n",
        "However, we see that there are some outliers in our data. Specifically with reddit_comments. This will be handled during the preprocessing step."
      ]
    },
    {
      "attachments": {},
      "cell_type": "markdown",
      "metadata": {},
      "source": [
        "### Removing unused columns"
      ]
    },
    {
      "cell_type": "code",
      "execution_count": 61,
      "metadata": {},
      "outputs": [
        {
          "data": {
            "text/html": [
              "<div>\n",
              "<style scoped>\n",
              "    .dataframe tbody tr th:only-of-type {\n",
              "        vertical-align: middle;\n",
              "    }\n",
              "\n",
              "    .dataframe tbody tr th {\n",
              "        vertical-align: top;\n",
              "    }\n",
              "\n",
              "    .dataframe thead th {\n",
              "        text-align: right;\n",
              "    }\n",
              "</style>\n",
              "<table border=\"1\" class=\"dataframe\">\n",
              "  <thead>\n",
              "    <tr style=\"text-align: right;\">\n",
              "      <th></th>\n",
              "      <th>name</th>\n",
              "      <th>imdb_rank</th>\n",
              "      <th>years</th>\n",
              "      <th>genre</th>\n",
              "      <th>imdb_rating</th>\n",
              "      <th>imdb_votes</th>\n",
              "      <th>service</th>\n",
              "      <th>reddit_comments</th>\n",
              "      <th>twitter_followers</th>\n",
              "      <th>status</th>\n",
              "      <th>runtime</th>\n",
              "      <th>primary_genre</th>\n",
              "    </tr>\n",
              "  </thead>\n",
              "  <tbody>\n",
              "    <tr>\n",
              "      <th>0</th>\n",
              "      <td>The Last of Us</td>\n",
              "      <td>1</td>\n",
              "      <td>2023-</td>\n",
              "      <td>['Action', 'Adventure', 'Drama', 'Horror', 'Sc...</td>\n",
              "      <td>9.2</td>\n",
              "      <td>220703.0</td>\n",
              "      <td>HBO Max</td>\n",
              "      <td>80894</td>\n",
              "      <td>388300</td>\n",
              "      <td>current</td>\n",
              "      <td>1.0</td>\n",
              "      <td>Action</td>\n",
              "    </tr>\n",
              "    <tr>\n",
              "      <th>1</th>\n",
              "      <td>You</td>\n",
              "      <td>2</td>\n",
              "      <td>2018-</td>\n",
              "      <td>['Crime', 'Drama', 'Romance', 'Thriller']</td>\n",
              "      <td>7.7</td>\n",
              "      <td>257575.0</td>\n",
              "      <td>Netflix</td>\n",
              "      <td>25171</td>\n",
              "      <td>360700</td>\n",
              "      <td>current</td>\n",
              "      <td>6.0</td>\n",
              "      <td>Crime</td>\n",
              "    </tr>\n",
              "    <tr>\n",
              "      <th>2</th>\n",
              "      <td>Poker Face</td>\n",
              "      <td>3</td>\n",
              "      <td>2023-</td>\n",
              "      <td>['Crime', 'Drama', 'Mystery']</td>\n",
              "      <td>8.1</td>\n",
              "      <td>13047.0</td>\n",
              "      <td>Peacock</td>\n",
              "      <td>353</td>\n",
              "      <td>0</td>\n",
              "      <td>current</td>\n",
              "      <td>1.0</td>\n",
              "      <td>Crime</td>\n",
              "    </tr>\n",
              "    <tr>\n",
              "      <th>3</th>\n",
              "      <td>1923</td>\n",
              "      <td>4</td>\n",
              "      <td>2022-2023</td>\n",
              "      <td>['Drama', 'Western']</td>\n",
              "      <td>8.6</td>\n",
              "      <td>17809.0</td>\n",
              "      <td>Paramount +</td>\n",
              "      <td>6480</td>\n",
              "      <td>44500</td>\n",
              "      <td>finished</td>\n",
              "      <td>2.0</td>\n",
              "      <td>Drama</td>\n",
              "    </tr>\n",
              "    <tr>\n",
              "      <th>4</th>\n",
              "      <td>Yellowstone</td>\n",
              "      <td>5</td>\n",
              "      <td>2018-2023</td>\n",
              "      <td>['Drama', 'Western']</td>\n",
              "      <td>8.7</td>\n",
              "      <td>162886.0</td>\n",
              "      <td>Peacock</td>\n",
              "      <td>36407</td>\n",
              "      <td>319100</td>\n",
              "      <td>finished</td>\n",
              "      <td>6.0</td>\n",
              "      <td>Drama</td>\n",
              "    </tr>\n",
              "  </tbody>\n",
              "</table>\n",
              "</div>"
            ],
            "text/plain": [
              "             name  imdb_rank      years  \\\n",
              "0  The Last of Us          1      2023-   \n",
              "1             You          2      2018-   \n",
              "2      Poker Face          3      2023-   \n",
              "3            1923          4  2022-2023   \n",
              "4     Yellowstone          5  2018-2023   \n",
              "\n",
              "                                               genre  imdb_rating  imdb_votes  \\\n",
              "0  ['Action', 'Adventure', 'Drama', 'Horror', 'Sc...          9.2    220703.0   \n",
              "1          ['Crime', 'Drama', 'Romance', 'Thriller']          7.7    257575.0   \n",
              "2                      ['Crime', 'Drama', 'Mystery']          8.1     13047.0   \n",
              "3                               ['Drama', 'Western']          8.6     17809.0   \n",
              "4                               ['Drama', 'Western']          8.7    162886.0   \n",
              "\n",
              "       service  reddit_comments  twitter_followers    status  runtime  \\\n",
              "0      HBO Max            80894             388300   current      1.0   \n",
              "1      Netflix            25171             360700   current      6.0   \n",
              "2      Peacock              353                  0   current      1.0   \n",
              "3  Paramount +             6480              44500  finished      2.0   \n",
              "4      Peacock            36407             319100  finished      6.0   \n",
              "\n",
              "  primary_genre  \n",
              "0        Action  \n",
              "1         Crime  \n",
              "2         Crime  \n",
              "3         Drama  \n",
              "4         Drama  "
            ]
          },
          "execution_count": 61,
          "metadata": {},
          "output_type": "execute_result"
        }
      ],
      "source": [
        "shows.head()"
      ]
    },
    {
      "attachments": {},
      "cell_type": "markdown",
      "metadata": {},
      "source": [
        "name, years (as we have created two columns that use this column's data), and genre (due to primary_genre) are all features that will not be used in predicting show popularity."
      ]
    },
    {
      "cell_type": "code",
      "execution_count": 62,
      "metadata": {},
      "outputs": [],
      "source": [
        "del shows['name']\n",
        "del shows['genre']\n",
        "del shows['years']"
      ]
    },
    {
      "attachments": {},
      "cell_type": "markdown",
      "metadata": {},
      "source": [
        "## Preprocessing"
      ]
    },
    {
      "attachments": {},
      "cell_type": "markdown",
      "metadata": {},
      "source": [
        "We will use sklearn's built-in preprocessing capabilities to preprocess the data. We will use pipelines to do so. SimpleImputer will handle missing values. StandardScaler will be used to scale our data and hangle outliers and OneHotEncoder will one hot encode categorical data."
      ]
    },
    {
      "cell_type": "code",
      "execution_count": 63,
      "metadata": {},
      "outputs": [],
      "source": [
        "from sklearn.compose import ColumnTransformer\n",
        "from sklearn.pipeline import Pipeline\n",
        "from sklearn.impute import SimpleImputer\n",
        "from sklearn.preprocessing import StandardScaler, OneHotEncoder"
      ]
    },
    {
      "cell_type": "code",
      "execution_count": 64,
      "metadata": {},
      "outputs": [],
      "source": [
        "numeric_transformer = Pipeline(steps=[\n",
        "    ('imputer', SimpleImputer(strategy='mean')),\n",
        "    ('scaler', StandardScaler())\n",
        "])\n",
        "\n",
        "categorical_transformer = Pipeline(steps=[\n",
        "    ('imputer', SimpleImputer(strategy='constant', fill_value='missing')),\n",
        "    ('onehot', OneHotEncoder(handle_unknown='ignore', sparse= False))\n",
        "])"
      ]
    },
    {
      "cell_type": "code",
      "execution_count": 65,
      "metadata": {},
      "outputs": [
        {
          "data": {
            "text/html": [
              "<div>\n",
              "<style scoped>\n",
              "    .dataframe tbody tr th:only-of-type {\n",
              "        vertical-align: middle;\n",
              "    }\n",
              "\n",
              "    .dataframe tbody tr th {\n",
              "        vertical-align: top;\n",
              "    }\n",
              "\n",
              "    .dataframe thead th {\n",
              "        text-align: right;\n",
              "    }\n",
              "</style>\n",
              "<table border=\"1\" class=\"dataframe\">\n",
              "  <thead>\n",
              "    <tr style=\"text-align: right;\">\n",
              "      <th></th>\n",
              "      <th>imdb_rank</th>\n",
              "      <th>imdb_rating</th>\n",
              "      <th>imdb_votes</th>\n",
              "      <th>service</th>\n",
              "      <th>reddit_comments</th>\n",
              "      <th>twitter_followers</th>\n",
              "      <th>status</th>\n",
              "      <th>runtime</th>\n",
              "      <th>primary_genre</th>\n",
              "    </tr>\n",
              "  </thead>\n",
              "  <tbody>\n",
              "    <tr>\n",
              "      <th>0</th>\n",
              "      <td>1</td>\n",
              "      <td>9.2</td>\n",
              "      <td>220703.0</td>\n",
              "      <td>HBO Max</td>\n",
              "      <td>80894</td>\n",
              "      <td>388300</td>\n",
              "      <td>current</td>\n",
              "      <td>1.0</td>\n",
              "      <td>Action</td>\n",
              "    </tr>\n",
              "    <tr>\n",
              "      <th>1</th>\n",
              "      <td>2</td>\n",
              "      <td>7.7</td>\n",
              "      <td>257575.0</td>\n",
              "      <td>Netflix</td>\n",
              "      <td>25171</td>\n",
              "      <td>360700</td>\n",
              "      <td>current</td>\n",
              "      <td>6.0</td>\n",
              "      <td>Crime</td>\n",
              "    </tr>\n",
              "    <tr>\n",
              "      <th>2</th>\n",
              "      <td>3</td>\n",
              "      <td>8.1</td>\n",
              "      <td>13047.0</td>\n",
              "      <td>Peacock</td>\n",
              "      <td>353</td>\n",
              "      <td>0</td>\n",
              "      <td>current</td>\n",
              "      <td>1.0</td>\n",
              "      <td>Crime</td>\n",
              "    </tr>\n",
              "    <tr>\n",
              "      <th>3</th>\n",
              "      <td>4</td>\n",
              "      <td>8.6</td>\n",
              "      <td>17809.0</td>\n",
              "      <td>Paramount +</td>\n",
              "      <td>6480</td>\n",
              "      <td>44500</td>\n",
              "      <td>finished</td>\n",
              "      <td>2.0</td>\n",
              "      <td>Drama</td>\n",
              "    </tr>\n",
              "    <tr>\n",
              "      <th>4</th>\n",
              "      <td>5</td>\n",
              "      <td>8.7</td>\n",
              "      <td>162886.0</td>\n",
              "      <td>Peacock</td>\n",
              "      <td>36407</td>\n",
              "      <td>319100</td>\n",
              "      <td>finished</td>\n",
              "      <td>6.0</td>\n",
              "      <td>Drama</td>\n",
              "    </tr>\n",
              "  </tbody>\n",
              "</table>\n",
              "</div>"
            ],
            "text/plain": [
              "   imdb_rank  imdb_rating  imdb_votes      service  reddit_comments  \\\n",
              "0          1          9.2    220703.0      HBO Max            80894   \n",
              "1          2          7.7    257575.0      Netflix            25171   \n",
              "2          3          8.1     13047.0      Peacock              353   \n",
              "3          4          8.6     17809.0  Paramount +             6480   \n",
              "4          5          8.7    162886.0      Peacock            36407   \n",
              "\n",
              "   twitter_followers    status  runtime primary_genre  \n",
              "0             388300   current      1.0        Action  \n",
              "1             360700   current      6.0         Crime  \n",
              "2                  0   current      1.0         Crime  \n",
              "3              44500  finished      2.0         Drama  \n",
              "4             319100  finished      6.0         Drama  "
            ]
          },
          "execution_count": 65,
          "metadata": {},
          "output_type": "execute_result"
        }
      ],
      "source": [
        "shows.head()"
      ]
    },
    {
      "cell_type": "code",
      "execution_count": 66,
      "metadata": {},
      "outputs": [],
      "source": [
        "categorical_cols = ['service', 'primary_genre', 'status']\n",
        "numeric_cols = ['imdb_rating', 'imdb_votes', 'reddit_comments', 'twitter_followers', 'runtime']"
      ]
    },
    {
      "cell_type": "code",
      "execution_count": 67,
      "metadata": {},
      "outputs": [],
      "source": [
        "preprocessor = ColumnTransformer(\n",
        "    transformers=[\n",
        "        ('num', numeric_transformer, numeric_cols),\n",
        "        ('cat', categorical_transformer, categorical_cols)\n",
        "    ], remainder='passthrough'\n",
        ")\n",
        "\n",
        "pipeline = Pipeline(steps=[\n",
        "    ('preprocessor,', preprocessor)\n",
        "])"
      ]
    },
    {
      "attachments": {},
      "cell_type": "markdown",
      "metadata": {},
      "source": [
        "### Applying Pipeline"
      ]
    },
    {
      "cell_type": "code",
      "execution_count": 68,
      "metadata": {},
      "outputs": [],
      "source": [
        "shows.service = shows.service.astype(str)\n",
        "shows.primary_genre = shows.primary_genre.astype(str)\n",
        "shows.status = shows.status.astype(str)"
      ]
    },
    {
      "cell_type": "code",
      "execution_count": 69,
      "metadata": {},
      "outputs": [
        {
          "name": "stderr",
          "output_type": "stream",
          "text": [
            "/Library/Frameworks/Python.framework/Versions/3.10/lib/python3.10/site-packages/sklearn/preprocessing/_encoders.py:868: FutureWarning: `sparse` was renamed to `sparse_output` in version 1.2 and will be removed in 1.4. `sparse_output` is ignored unless you leave `sparse` to its default value.\n",
            "  warnings.warn(\n"
          ]
        }
      ],
      "source": [
        "x = shows.drop('imdb_rank', axis=1)\n",
        "y = shows['imdb_rank']\n",
        "preprocessed_x = pipeline.fit_transform(x)"
      ]
    },
    {
      "attachments": {},
      "cell_type": "markdown",
      "metadata": {
        "id": "I8eBPkT7Wg0W"
      },
      "source": [
        "# Popularity Model"
      ]
    },
    {
      "attachments": {},
      "cell_type": "markdown",
      "metadata": {},
      "source": [
        "Due to the small size of my dataset, I would like to use either a Linear Regression, KNN or SVM as they are likely to be more effective when working with such a dataset. I will use Grid Search Cross Validation to tine the hyperparameters and decide between the two models.\n",
        "\n",
        "I will use classification models as opposed to regression models due to the fact that I am performing an ordinal prediction."
      ]
    },
    {
      "cell_type": "code",
      "execution_count": 70,
      "metadata": {},
      "outputs": [],
      "source": [
        "from sklearn.svm import SVC\n",
        "from sklearn.neighbors import KNeighborsClassifier\n",
        "from sklearn.linear_model import LinearRegression\n",
        "from sklearn.model_selection import train_test_split, GridSearchCV, KFold, cross_val_score"
      ]
    },
    {
      "attachments": {},
      "cell_type": "markdown",
      "metadata": {},
      "source": [
        "### Create Train Test Split"
      ]
    },
    {
      "cell_type": "code",
      "execution_count": 71,
      "metadata": {},
      "outputs": [],
      "source": [
        "x_train, x_test, y_train, y_test = train_test_split(preprocessed_x, y, test_size = 0.2, random_state=6)"
      ]
    },
    {
      "attachments": {},
      "cell_type": "markdown",
      "metadata": {},
      "source": [
        "### Define Tested Hyperparameters"
      ]
    },
    {
      "cell_type": "code",
      "execution_count": 72,
      "metadata": {},
      "outputs": [],
      "source": [
        "models = {\n",
        "    'LinearRegression': LinearRegression(),\n",
        "    'KNN': KNeighborsClassifier(),\n",
        "    'SVM': SVC()\n",
        "}"
      ]
    },
    {
      "cell_type": "code",
      "execution_count": 73,
      "metadata": {},
      "outputs": [],
      "source": [
        "params = {\n",
        "    'LinearRegression': {},\n",
        "    'KNN': {\n",
        "        'n_neighbors': [2, 3]\n",
        "    },\n",
        "    'SVM': {\n",
        "        'C': [0.01, 0.1, 1, 10],\n",
        "        'kernel': ['linear','rbf', 'poly']\n",
        "        \n",
        "    }\n",
        "}"
      ]
    },
    {
      "attachments": {},
      "cell_type": "markdown",
      "metadata": {},
      "source": [
        "We will be using 10-fold CV to test the models."
      ]
    },
    {
      "cell_type": "code",
      "execution_count": 74,
      "metadata": {},
      "outputs": [],
      "source": [
        "cv = KFold(n_splits=10, shuffle=True, random_state=6)"
      ]
    },
    {
      "cell_type": "code",
      "execution_count": 75,
      "metadata": {},
      "outputs": [
        {
          "name": "stdout",
          "output_type": "stream",
          "text": [
            "Training LinearRegression\n",
            "Fitting 10 folds for each of 1 candidates, totalling 10 fits\n",
            "[CV] END .................................................... total time=   0.0s\n",
            "[CV] END .................................................... total time=   0.0s\n",
            "[CV] END .................................................... total time=   0.0s\n",
            "[CV] END .................................................... total time=   0.0s\n",
            "[CV] END .................................................... total time=   0.0s\n",
            "[CV] END .................................................... total time=   0.0s\n",
            "[CV] END .................................................... total time=   0.0s\n",
            "[CV] END .................................................... total time=   0.0s\n",
            "[CV] END .................................................... total time=   0.0s\n",
            "[CV] END .................................................... total time=   0.0s\n",
            "Optimal Parameters for LinearRegression: {}\n",
            "Best RMSE for LinearRegression: 49.52039859347242\n",
            "Training KNN\n",
            "Fitting 10 folds for each of 2 candidates, totalling 20 fits\n",
            "[CV] END ......................................n_neighbors=2; total time=   0.0s\n",
            "[CV] END ......................................n_neighbors=2; total time=   0.0s\n",
            "[CV] END ......................................n_neighbors=2; total time=   0.0s\n",
            "[CV] END ......................................n_neighbors=2; total time=   0.0s\n",
            "[CV] END ......................................n_neighbors=2; total time=   0.0s\n",
            "[CV] END ......................................n_neighbors=2; total time=   0.0s\n",
            "[CV] END ......................................n_neighbors=2; total time=   0.0s\n",
            "[CV] END ......................................n_neighbors=2; total time=   0.0s\n",
            "[CV] END ......................................n_neighbors=2; total time=   0.0s\n",
            "[CV] END ......................................n_neighbors=2; total time=   0.0s\n",
            "[CV] END ......................................n_neighbors=3; total time=   0.0s\n",
            "[CV] END ......................................n_neighbors=3; total time=   0.0s\n",
            "[CV] END ......................................n_neighbors=3; total time=   0.0s\n",
            "[CV] END ......................................n_neighbors=3; total time=   0.0s\n",
            "[CV] END ......................................n_neighbors=3; total time=   0.0s\n",
            "[CV] END ......................................n_neighbors=3; total time=   0.0s\n",
            "[CV] END ......................................n_neighbors=3; total time=   0.0s\n",
            "[CV] END ......................................n_neighbors=3; total time=   0.0s\n",
            "[CV] END ......................................n_neighbors=3; total time=   0.0s\n",
            "[CV] END ......................................n_neighbors=3; total time=   0.0s\n",
            "Optimal Parameters for KNN: {'n_neighbors': 2}\n",
            "Best RMSE for KNN: 63.214036368036126\n",
            "Training SVM\n",
            "Fitting 10 folds for each of 12 candidates, totalling 120 fits\n",
            "[CV] END ..............................C=0.01, kernel=linear; total time=   0.0s\n",
            "[CV] END ..............................C=0.01, kernel=linear; total time=   0.0s\n",
            "[CV] END ..............................C=0.01, kernel=linear; total time=   0.0s\n",
            "[CV] END ..............................C=0.01, kernel=linear; total time=   0.0s\n",
            "[CV] END ..............................C=0.01, kernel=linear; total time=   0.0s\n",
            "[CV] END ..............................C=0.01, kernel=linear; total time=   0.0s\n",
            "[CV] END ..............................C=0.01, kernel=linear; total time=   0.0s\n",
            "[CV] END ..............................C=0.01, kernel=linear; total time=   0.0s\n",
            "[CV] END ..............................C=0.01, kernel=linear; total time=   0.0s\n",
            "[CV] END ..............................C=0.01, kernel=linear; total time=   0.0s\n",
            "[CV] END .................................C=0.01, kernel=rbf; total time=   0.0s\n",
            "[CV] END .................................C=0.01, kernel=rbf; total time=   0.0s\n",
            "[CV] END .................................C=0.01, kernel=rbf; total time=   0.0s\n",
            "[CV] END .................................C=0.01, kernel=rbf; total time=   0.0s\n",
            "[CV] END .................................C=0.01, kernel=rbf; total time=   0.0s\n",
            "[CV] END .................................C=0.01, kernel=rbf; total time=   0.0s\n",
            "[CV] END .................................C=0.01, kernel=rbf; total time=   0.0s\n",
            "[CV] END .................................C=0.01, kernel=rbf; total time=   0.0s\n",
            "[CV] END .................................C=0.01, kernel=rbf; total time=   0.0s\n",
            "[CV] END .................................C=0.01, kernel=rbf; total time=   0.0s\n",
            "[CV] END ................................C=0.01, kernel=poly; total time=   0.0s\n",
            "[CV] END ................................C=0.01, kernel=poly; total time=   0.0s\n",
            "[CV] END ................................C=0.01, kernel=poly; total time=   0.0s\n",
            "[CV] END ................................C=0.01, kernel=poly; total time=   0.0s\n",
            "[CV] END ................................C=0.01, kernel=poly; total time=   0.0s\n",
            "[CV] END ................................C=0.01, kernel=poly; total time=   0.0s\n",
            "[CV] END ................................C=0.01, kernel=poly; total time=   0.0s\n",
            "[CV] END ................................C=0.01, kernel=poly; total time=   0.0s\n",
            "[CV] END ................................C=0.01, kernel=poly; total time=   0.0s\n",
            "[CV] END ................................C=0.01, kernel=poly; total time=   0.0s\n",
            "[CV] END ...............................C=0.1, kernel=linear; total time=   0.0s\n",
            "[CV] END ...............................C=0.1, kernel=linear; total time=   0.0s\n",
            "[CV] END ...............................C=0.1, kernel=linear; total time=   0.0s\n",
            "[CV] END ...............................C=0.1, kernel=linear; total time=   0.0s\n",
            "[CV] END ...............................C=0.1, kernel=linear; total time=   0.0s\n",
            "[CV] END ...............................C=0.1, kernel=linear; total time=   0.0s\n",
            "[CV] END ...............................C=0.1, kernel=linear; total time=   0.0s\n",
            "[CV] END ...............................C=0.1, kernel=linear; total time=   0.0s\n",
            "[CV] END ...............................C=0.1, kernel=linear; total time=   0.0s\n",
            "[CV] END ...............................C=0.1, kernel=linear; total time=   0.0s\n",
            "[CV] END ..................................C=0.1, kernel=rbf; total time=   0.0s\n",
            "[CV] END ..................................C=0.1, kernel=rbf; total time=   0.0s\n",
            "[CV] END ..................................C=0.1, kernel=rbf; total time=   0.0s\n",
            "[CV] END ..................................C=0.1, kernel=rbf; total time=   0.0s\n",
            "[CV] END ..................................C=0.1, kernel=rbf; total time=   0.0s\n",
            "[CV] END ..................................C=0.1, kernel=rbf; total time=   0.0s\n",
            "[CV] END ..................................C=0.1, kernel=rbf; total time=   0.0s\n",
            "[CV] END ..................................C=0.1, kernel=rbf; total time=   0.0s\n",
            "[CV] END ..................................C=0.1, kernel=rbf; total time=   0.0s\n",
            "[CV] END ..................................C=0.1, kernel=rbf; total time=   0.0s\n",
            "[CV] END .................................C=0.1, kernel=poly; total time=   0.0s\n",
            "[CV] END .................................C=0.1, kernel=poly; total time=   0.0s\n",
            "[CV] END .................................C=0.1, kernel=poly; total time=   0.0s\n",
            "[CV] END .................................C=0.1, kernel=poly; total time=   0.0s\n",
            "[CV] END .................................C=0.1, kernel=poly; total time=   0.0s\n",
            "[CV] END .................................C=0.1, kernel=poly; total time=   0.0s\n",
            "[CV] END .................................C=0.1, kernel=poly; total time=   0.0s\n",
            "[CV] END .................................C=0.1, kernel=poly; total time=   0.0s\n",
            "[CV] END .................................C=0.1, kernel=poly; total time=   0.0s\n",
            "[CV] END .................................C=0.1, kernel=poly; total time=   0.0s\n",
            "[CV] END .................................C=1, kernel=linear; total time=   0.0s\n",
            "[CV] END .................................C=1, kernel=linear; total time=   0.0s\n",
            "[CV] END .................................C=1, kernel=linear; total time=   0.0s\n",
            "[CV] END .................................C=1, kernel=linear; total time=   0.0s\n",
            "[CV] END .................................C=1, kernel=linear; total time=   0.0s\n",
            "[CV] END .................................C=1, kernel=linear; total time=   0.0s\n",
            "[CV] END .................................C=1, kernel=linear; total time=   0.0s\n",
            "[CV] END .................................C=1, kernel=linear; total time=   0.0s\n",
            "[CV] END .................................C=1, kernel=linear; total time=   0.0s\n",
            "[CV] END .................................C=1, kernel=linear; total time=   0.0s\n",
            "[CV] END ....................................C=1, kernel=rbf; total time=   0.0s\n",
            "[CV] END ....................................C=1, kernel=rbf; total time=   0.0s\n",
            "[CV] END ....................................C=1, kernel=rbf; total time=   0.0s\n",
            "[CV] END ....................................C=1, kernel=rbf; total time=   0.0s\n",
            "[CV] END ....................................C=1, kernel=rbf; total time=   0.0s\n",
            "[CV] END ....................................C=1, kernel=rbf; total time=   0.0s\n",
            "[CV] END ....................................C=1, kernel=rbf; total time=   0.0s\n",
            "[CV] END ....................................C=1, kernel=rbf; total time=   0.0s\n",
            "[CV] END ....................................C=1, kernel=rbf; total time=   0.0s\n",
            "[CV] END ....................................C=1, kernel=rbf; total time=   0.0s\n",
            "[CV] END ...................................C=1, kernel=poly; total time=   0.0s\n",
            "[CV] END ...................................C=1, kernel=poly; total time=   0.0s\n",
            "[CV] END ...................................C=1, kernel=poly; total time=   0.0s\n",
            "[CV] END ...................................C=1, kernel=poly; total time=   0.0s\n",
            "[CV] END ...................................C=1, kernel=poly; total time=   0.0s\n",
            "[CV] END ...................................C=1, kernel=poly; total time=   0.0s\n",
            "[CV] END ...................................C=1, kernel=poly; total time=   0.0s\n",
            "[CV] END ...................................C=1, kernel=poly; total time=   0.0s\n",
            "[CV] END ...................................C=1, kernel=poly; total time=   0.0s\n",
            "[CV] END ...................................C=1, kernel=poly; total time=   0.0s\n",
            "[CV] END ................................C=10, kernel=linear; total time=   0.0s\n",
            "[CV] END ................................C=10, kernel=linear; total time=   0.0s\n",
            "[CV] END ................................C=10, kernel=linear; total time=   0.0s\n",
            "[CV] END ................................C=10, kernel=linear; total time=   0.0s\n",
            "[CV] END ................................C=10, kernel=linear; total time=   0.0s\n",
            "[CV] END ................................C=10, kernel=linear; total time=   0.0s\n",
            "[CV] END ................................C=10, kernel=linear; total time=   0.0s\n",
            "[CV] END ................................C=10, kernel=linear; total time=   0.0s\n",
            "[CV] END ................................C=10, kernel=linear; total time=   0.0s\n",
            "[CV] END ................................C=10, kernel=linear; total time=   0.0s\n",
            "[CV] END ...................................C=10, kernel=rbf; total time=   0.0s\n",
            "[CV] END ...................................C=10, kernel=rbf; total time=   0.0s\n",
            "[CV] END ...................................C=10, kernel=rbf; total time=   0.0s\n",
            "[CV] END ...................................C=10, kernel=rbf; total time=   0.0s\n",
            "[CV] END ...................................C=10, kernel=rbf; total time=   0.0s\n",
            "[CV] END ...................................C=10, kernel=rbf; total time=   0.0s\n",
            "[CV] END ...................................C=10, kernel=rbf; total time=   0.0s\n",
            "[CV] END ...................................C=10, kernel=rbf; total time=   0.0s\n",
            "[CV] END ...................................C=10, kernel=rbf; total time=   0.0s\n",
            "[CV] END ...................................C=10, kernel=rbf; total time=   0.0s\n",
            "[CV] END ..................................C=10, kernel=poly; total time=   0.0s\n",
            "[CV] END ..................................C=10, kernel=poly; total time=   0.0s\n",
            "[CV] END ..................................C=10, kernel=poly; total time=   0.0s\n",
            "[CV] END ..................................C=10, kernel=poly; total time=   0.0s\n",
            "[CV] END ..................................C=10, kernel=poly; total time=   0.0s\n",
            "[CV] END ..................................C=10, kernel=poly; total time=   0.0s\n",
            "[CV] END ..................................C=10, kernel=poly; total time=   0.0s\n",
            "[CV] END ..................................C=10, kernel=poly; total time=   0.0s\n",
            "[CV] END ..................................C=10, kernel=poly; total time=   0.0s\n",
            "[CV] END ..................................C=10, kernel=poly; total time=   0.0s\n",
            "Optimal Parameters for SVM: {'C': 0.01, 'kernel': 'linear'}\n",
            "Best RMSE for SVM: 58.96030380045903\n"
          ]
        }
      ],
      "source": [
        "grids = {}\n",
        "for name, model in models.items():\n",
        "    print(f'Training {name}')\n",
        "    grids[name] = GridSearchCV(estimator=model, param_grid=params[name], cv=cv, scoring='neg_mean_squared_error',verbose=2)\n",
        "    grids[name].fit(x_train, y_train)\n",
        "    optimal_params = grids[name].best_params_\n",
        "    best_score = np.sqrt(-1*grids[name].best_score_)\n",
        "    print(f'Optimal Parameters for {name}: {optimal_params}\\nBest RMSE for {name}: {best_score}')"
      ]
    },
    {
      "attachments": {},
      "cell_type": "markdown",
      "metadata": {},
      "source": [
        "The RMSE for each of the models is extremely poor. This is likely due to the lack of data and the randomness of the features. It appears to be extremely difficult to predict when a show will become popular based on a small subset of factors. However, the linear regression model preformed the best and will be used."
      ]
    },
    {
      "attachments": {},
      "cell_type": "markdown",
      "metadata": {},
      "source": [
        "### Sample Prediction"
      ]
    },
    {
      "cell_type": "code",
      "execution_count": 76,
      "metadata": {
        "colab": {
          "base_uri": "https://localhost:8080/",
          "height": 922
        },
        "id": "Qr8SbwJYWkKB",
        "outputId": "b71c3e30-e9d5-4d58-c27c-ddea3b692436"
      },
      "outputs": [],
      "source": [
        "linear_model = grids['LinearRegression']"
      ]
    },
    {
      "cell_type": "code",
      "execution_count": 79,
      "metadata": {},
      "outputs": [],
      "source": [
        "def predictShow(rating, votes, service, comments, followers, status, runtime, genre):\n",
        "    \n",
        "    feature_array = {'imdb_rating':rating, 'imdb_votes':votes, 'service':service, 'reddit_comments':comments, 'twitter_followers':followers, 'status':status, 'runtime':runtime, 'primary_genre':genre}\n",
        "    new_df = x.append(feature_array, ignore_index=True)\n",
        "    preprocessed = pipeline.fit_transform(new_df)\n",
        "    prediction = linear_model.predict(preprocessed)\n",
        "    return round(prediction[len(prediction)-1],2)\n",
        "\n"
      ]
    },
    {
      "cell_type": "code",
      "execution_count": 80,
      "metadata": {},
      "outputs": [
        {
          "name": "stderr",
          "output_type": "stream",
          "text": [
            "/var/folders/3v/866x8bfs7hb47f11mt9d5vdc0000gn/T/ipykernel_9560/1242112300.py:4: FutureWarning: The frame.append method is deprecated and will be removed from pandas in a future version. Use pandas.concat instead.\n",
            "  new_df = x.append(feature_array, ignore_index=True)\n",
            "/Library/Frameworks/Python.framework/Versions/3.10/lib/python3.10/site-packages/sklearn/preprocessing/_encoders.py:868: FutureWarning: `sparse` was renamed to `sparse_output` in version 1.2 and will be removed in 1.4. `sparse_output` is ignored unless you leave `sparse` to its default value.\n",
            "  warnings.warn(\n"
          ]
        },
        {
          "data": {
            "text/plain": [
              "77.02"
            ]
          },
          "execution_count": 80,
          "metadata": {},
          "output_type": "execute_result"
        }
      ],
      "source": [
        "pred = predictShow(9.0,10000,'Hulu',100000,1000000,'current',2.0,'Comedy')\n",
        "pred"
      ]
    },
    {
      "attachments": {},
      "cell_type": "markdown",
      "metadata": {},
      "source": [
        "## Conclusions"
      ]
    },
    {
      "attachments": {},
      "cell_type": "markdown",
      "metadata": {},
      "source": [
        "The model preformance was extremely poor. This is overwhelmingly likely to be caused by the use of just 150 data points. In a future experiment, it would be more wise to collect a far larger amount of data when trying to model something as complex as show popularity. However, this model still has some use in predicting a TV show's popularity, but should not be taken at face value."
      ]
    }
  ],
  "metadata": {
    "colab": {
      "provenance": []
    },
    "kernelspec": {
      "display_name": "Python 3",
      "name": "python3"
    },
    "language_info": {
      "codemirror_mode": {
        "name": "ipython",
        "version": 3
      },
      "file_extension": ".py",
      "mimetype": "text/x-python",
      "name": "python",
      "nbconvert_exporter": "python",
      "pygments_lexer": "ipython3",
      "version": "3.10.7"
    }
  },
  "nbformat": 4,
  "nbformat_minor": 0
}
